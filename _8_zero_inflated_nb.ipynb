{
 "cells": [
  {
   "cell_type": "markdown",
   "metadata": {},
   "source": [
    "# An example with zero inflated negative binomial regression"
   ]
  },
  {
   "cell_type": "markdown",
   "metadata": {},
   "source": [
    "From here: https://en.wikipedia.org/wiki/Negative_binomial_distribution\n",
    "\n",
    "A negative binomial RV models the number of failures in a sequence of i.i.d Bernouilli trials before the a specified (non-random) number of successes (denoted $r$) occurrs. E.g. we can call \"success\" rolling a 6 on a 6-sided die and ask: \"How many failures (non-6s) will occur before we roll the third ($r=3$) 6?\" In this case, the probability of the number of non-6s will be negative binomial.\n",
    "\n",
    "\n",
    "A generalization is to allow for $r$ to assume any positve real value. \n",
    "\n",
    "NB allows for letting mean $\\neq$ variance, unlike Poisson distribution. "
   ]
  },
  {
   "cell_type": "markdown",
   "metadata": {},
   "source": [
    "# 1) Theory\n",
    "again, https://en.wikipedia.org/wiki/Negative_binomial_distribution"
   ]
  },
  {
   "cell_type": "markdown",
   "metadata": {},
   "source": [
    "Recall that a **Binomial** RV describes the distribution of the number of successes in $n$ independent Bernoulli trials with success probability $p$. \n",
    "\n",
    "**Example**: probability of getting exactly 2 heads in 6 tosses of a fair coin:\n",
    "\n",
    "$$\n",
    "\\begin{align}\n",
    "\\mathbb{P}[X=2] &= \\text{(number of ways of distributing 2 successes into a sequence of 6 trials)}\\times(\\mathbb{P}[\\text{sucess}])^2\\times(\\mathbb{P}[\\text{failure}])^{6-2}\n",
    "\\end{align}\n",
    "$$"
   ]
  },
  {
   "cell_type": "markdown",
   "metadata": {},
   "source": [
    "For the first part of this, the success can happen on trial 1 and 5, 1 and 2, 3 and 4 etc. So it is a problem of ${n \\choose x}$. But, in each of these 2-out-of-6 sucesses, I need to get exactly a string of 2 sucesses and 4 losses. This happens with probability $(\\mathbb{P}[\\text{sucess}])^2\\times(\\mathbb{P}[\\text{failure}])^{6-2}$. Hence the required probability is\n",
    "\n",
    "$$\n",
    "\\begin{align}\n",
    "\\mathbb{P}[X=2] &= {6 \\choose 2}\\left(\\frac{1}{2}\\right)^2\\left(\\frac{1}{2}\\right)^4 \\\\\n",
    "&= \\frac{6!}{2!4!}\\frac{1}{64} \\\\\n",
    "&= \\frac{6\\times 5}{2}\\frac{1}{64}\\\\\n",
    "&= \\frac{15}{64}.\n",
    "\\end{align}\n",
    "$$"
   ]
  },
  {
   "cell_type": "markdown",
   "metadata": {},
   "source": [
    "With a **Negative Binomial** RV we are instead asking: how many times ($k$) will we fail until the $r$th success? So with $k$ failures and $r$ successes, there will be a total of $k+r$ Bernouilli trials. But we are interested in the number of failures **BEFORE** the $r$th success. So the total number of trials is $k+r-1$. We are now asking about the way of distributing $k$ failures among these. We therefore have (success probability $p$, $r$=number of successes, $k$=number of failures)\n",
    "\n",
    "$$\n",
    "\\begin{align}\n",
    "f(k;r,p) &= \\mathbb{P}[X=k] = {k+r-1 \\choose k}p^r(1-p)^k.\n",
    "\\end{align}\n",
    "$$"
   ]
  },
  {
   "cell_type": "markdown",
   "metadata": {},
   "source": [
    "Now one can extend the negative binomial distribution to the case where $r$ is any positive real, not necessarily integer. In that case:\n",
    "\n",
    "$$\n",
    "\\begin{align}\n",
    "{k+r-1 \\choose k}p^r(1-p)^k &= \\frac{(k+r-1)(k+r-2)...(r)(r-1)...(1))}{k!(r-1)!} \\\\\n",
    "&= \\frac{(k+r-1)(k+r-2)...(r)}{k!} \\\\\n",
    "&= \\frac{\\Gamma(k+r)}{k!\\Gamma(r)},\n",
    "\\end{align}\n",
    "$$\n",
    "\n",
    "where the binomial coefficient is extended to its real-values counterpart, the Gamma function (see wikipedia). Hence, the probabiluty mass function becomes:\n",
    "\n",
    "$$\n",
    "\\begin{align}\n",
    "f(k;r,p) &= \\mathbb{P}[X=k] = \\frac{\\Gamma(k+r)}{k!\\Gamma(r)}p^r(1-p)^k.\n",
    "\\end{align}\n",
    "$$"
   ]
  },
  {
   "cell_type": "markdown",
   "metadata": {},
   "source": [
    "In negative binomial regression, the distribution is specified in terms of the mean $m = \\frac{pr}{1-p}$, hence $p=\\frac{m}{m+r}$ and $1-p=\\frac{r}{m+r}$. Substituting this:\n",
    "\n",
    "$$\n",
    "\\begin{align}\n",
    "f(k;r,p) &= \\mathbb{P}[X=k] = \\frac{\\Gamma(k+r)}{k!\\Gamma(r)}\\left(\\frac{m}{m+r}\\right)^r\\left(\\frac{r}{m+r}\\right)^k.\n",
    "\\end{align}\n",
    "$$"
   ]
  },
  {
   "cell_type": "markdown",
   "metadata": {},
   "source": [
    "For maximum likelihood estimation, see: https://en.wikipedia.org/wiki/Negative_binomial_distribution#Maximum_likelihood_estimation"
   ]
  },
  {
   "cell_type": "markdown",
   "metadata": {},
   "source": [
    "The **Zero Inflated Negative Binomial** regression model is then analogous to the ZIP model we saw in `_3_poisson_statsmodesl_zero_inflation`: we use a binary outcome model such as a logistic regression to model whether something does or does not happen and then we use a count model (in this case a negative binomial) to model the expected count of whatever we are interested in conditional on the thing happening. "
   ]
  },
  {
   "cell_type": "markdown",
   "metadata": {},
   "source": [
    "# 2) Example: fish caught in state park again"
   ]
  },
  {
   "cell_type": "markdown",
   "metadata": {},
   "source": [
    "We consider the same example as we did in 2.2) in `_3_poisson_statsmodesl_zero_inflation`. The example is taken from here: https://stats.idre.ucla.edu/r/dae/zinb/"
   ]
  },
  {
   "cell_type": "code",
   "execution_count": 1,
   "metadata": {},
   "outputs": [
    {
     "name": "stderr",
     "output_type": "stream",
     "text": [
      "/home/seb/py36/lib/python3.6/site-packages/statsmodels/tools/_testing.py:19: FutureWarning: pandas.util.testing is deprecated. Use the functions in the public API at pandas.testing instead.\n",
      "  import pandas.util.testing as tm\n"
     ]
    }
   ],
   "source": [
    "import numpy as np\n",
    "import pandas as pd\n",
    "import matplotlib.pyplot as plt\n",
    "import matplotlib as mpl\n",
    "plt.style.use('seaborn')\n",
    "mpl.rcParams['font.family'] = 'serif'\n",
    "%matplotlib inline\n",
    "\n",
    "import statsmodels.api as sm\n",
    "from statsmodels.discrete.count_model import ZeroInflatedNegativeBinomialP as ZINB"
   ]
  },
  {
   "cell_type": "code",
   "execution_count": 2,
   "metadata": {},
   "outputs": [],
   "source": [
    "df = pd.read_csv('https://stats.idre.ucla.edu/stat/data/fish.csv')"
   ]
  },
  {
   "cell_type": "code",
   "execution_count": 3,
   "metadata": {},
   "outputs": [
    {
     "data": {
      "text/html": [
       "<div>\n",
       "<style scoped>\n",
       "    .dataframe tbody tr th:only-of-type {\n",
       "        vertical-align: middle;\n",
       "    }\n",
       "\n",
       "    .dataframe tbody tr th {\n",
       "        vertical-align: top;\n",
       "    }\n",
       "\n",
       "    .dataframe thead th {\n",
       "        text-align: right;\n",
       "    }\n",
       "</style>\n",
       "<table border=\"1\" class=\"dataframe\">\n",
       "  <thead>\n",
       "    <tr style=\"text-align: right;\">\n",
       "      <th></th>\n",
       "      <th>nofish</th>\n",
       "      <th>livebait</th>\n",
       "      <th>camper</th>\n",
       "      <th>persons</th>\n",
       "      <th>child</th>\n",
       "      <th>xb</th>\n",
       "      <th>zg</th>\n",
       "      <th>count</th>\n",
       "    </tr>\n",
       "  </thead>\n",
       "  <tbody>\n",
       "    <tr>\n",
       "      <th>0</th>\n",
       "      <td>1</td>\n",
       "      <td>0</td>\n",
       "      <td>0</td>\n",
       "      <td>1</td>\n",
       "      <td>0</td>\n",
       "      <td>-0.896315</td>\n",
       "      <td>3.050405</td>\n",
       "      <td>0</td>\n",
       "    </tr>\n",
       "    <tr>\n",
       "      <th>1</th>\n",
       "      <td>0</td>\n",
       "      <td>1</td>\n",
       "      <td>1</td>\n",
       "      <td>1</td>\n",
       "      <td>0</td>\n",
       "      <td>-0.558345</td>\n",
       "      <td>1.746149</td>\n",
       "      <td>0</td>\n",
       "    </tr>\n",
       "    <tr>\n",
       "      <th>2</th>\n",
       "      <td>0</td>\n",
       "      <td>1</td>\n",
       "      <td>0</td>\n",
       "      <td>1</td>\n",
       "      <td>0</td>\n",
       "      <td>-0.401731</td>\n",
       "      <td>0.279939</td>\n",
       "      <td>0</td>\n",
       "    </tr>\n",
       "    <tr>\n",
       "      <th>3</th>\n",
       "      <td>0</td>\n",
       "      <td>1</td>\n",
       "      <td>1</td>\n",
       "      <td>2</td>\n",
       "      <td>1</td>\n",
       "      <td>-0.956298</td>\n",
       "      <td>-0.601526</td>\n",
       "      <td>0</td>\n",
       "    </tr>\n",
       "    <tr>\n",
       "      <th>4</th>\n",
       "      <td>0</td>\n",
       "      <td>1</td>\n",
       "      <td>0</td>\n",
       "      <td>1</td>\n",
       "      <td>0</td>\n",
       "      <td>0.436891</td>\n",
       "      <td>0.527709</td>\n",
       "      <td>1</td>\n",
       "    </tr>\n",
       "  </tbody>\n",
       "</table>\n",
       "</div>"
      ],
      "text/plain": [
       "   nofish  livebait  camper  persons  child        xb        zg  count\n",
       "0       1         0       0        1      0 -0.896315  3.050405      0\n",
       "1       0         1       1        1      0 -0.558345  1.746149      0\n",
       "2       0         1       0        1      0 -0.401731  0.279939      0\n",
       "3       0         1       1        2      1 -0.956298 -0.601526      0\n",
       "4       0         1       0        1      0  0.436891  0.527709      1"
      ]
     },
     "execution_count": 3,
     "metadata": {},
     "output_type": "execute_result"
    }
   ],
   "source": [
    "df.head()"
   ]
  },
  {
   "cell_type": "code",
   "execution_count": 4,
   "metadata": {},
   "outputs": [
    {
     "data": {
      "text/html": [
       "<div>\n",
       "<style scoped>\n",
       "    .dataframe tbody tr th:only-of-type {\n",
       "        vertical-align: middle;\n",
       "    }\n",
       "\n",
       "    .dataframe tbody tr th {\n",
       "        vertical-align: top;\n",
       "    }\n",
       "\n",
       "    .dataframe thead th {\n",
       "        text-align: right;\n",
       "    }\n",
       "</style>\n",
       "<table border=\"1\" class=\"dataframe\">\n",
       "  <thead>\n",
       "    <tr style=\"text-align: right;\">\n",
       "      <th></th>\n",
       "      <th>nofish</th>\n",
       "      <th>livebait</th>\n",
       "      <th>camper</th>\n",
       "      <th>persons</th>\n",
       "      <th>child</th>\n",
       "      <th>xb</th>\n",
       "      <th>zg</th>\n",
       "      <th>count</th>\n",
       "    </tr>\n",
       "  </thead>\n",
       "  <tbody>\n",
       "    <tr>\n",
       "      <th>count</th>\n",
       "      <td>250.000000</td>\n",
       "      <td>250.000000</td>\n",
       "      <td>250.000000</td>\n",
       "      <td>250.00000</td>\n",
       "      <td>250.000000</td>\n",
       "      <td>250.000000</td>\n",
       "      <td>250.000000</td>\n",
       "      <td>250.000000</td>\n",
       "    </tr>\n",
       "    <tr>\n",
       "      <th>mean</th>\n",
       "      <td>0.296000</td>\n",
       "      <td>0.864000</td>\n",
       "      <td>0.588000</td>\n",
       "      <td>2.52800</td>\n",
       "      <td>0.684000</td>\n",
       "      <td>0.973796</td>\n",
       "      <td>0.252323</td>\n",
       "      <td>3.296000</td>\n",
       "    </tr>\n",
       "    <tr>\n",
       "      <th>std</th>\n",
       "      <td>0.457407</td>\n",
       "      <td>0.343476</td>\n",
       "      <td>0.493182</td>\n",
       "      <td>1.11273</td>\n",
       "      <td>0.850315</td>\n",
       "      <td>1.440277</td>\n",
       "      <td>2.102391</td>\n",
       "      <td>11.635028</td>\n",
       "    </tr>\n",
       "    <tr>\n",
       "      <th>min</th>\n",
       "      <td>0.000000</td>\n",
       "      <td>0.000000</td>\n",
       "      <td>0.000000</td>\n",
       "      <td>1.00000</td>\n",
       "      <td>0.000000</td>\n",
       "      <td>-3.275050</td>\n",
       "      <td>-5.625944</td>\n",
       "      <td>0.000000</td>\n",
       "    </tr>\n",
       "    <tr>\n",
       "      <th>25%</th>\n",
       "      <td>0.000000</td>\n",
       "      <td>1.000000</td>\n",
       "      <td>0.000000</td>\n",
       "      <td>2.00000</td>\n",
       "      <td>0.000000</td>\n",
       "      <td>0.008267</td>\n",
       "      <td>-1.252724</td>\n",
       "      <td>0.000000</td>\n",
       "    </tr>\n",
       "    <tr>\n",
       "      <th>50%</th>\n",
       "      <td>0.000000</td>\n",
       "      <td>1.000000</td>\n",
       "      <td>1.000000</td>\n",
       "      <td>2.00000</td>\n",
       "      <td>0.000000</td>\n",
       "      <td>0.954550</td>\n",
       "      <td>0.605079</td>\n",
       "      <td>0.000000</td>\n",
       "    </tr>\n",
       "    <tr>\n",
       "      <th>75%</th>\n",
       "      <td>1.000000</td>\n",
       "      <td>1.000000</td>\n",
       "      <td>1.000000</td>\n",
       "      <td>4.00000</td>\n",
       "      <td>1.000000</td>\n",
       "      <td>1.963855</td>\n",
       "      <td>1.993237</td>\n",
       "      <td>2.000000</td>\n",
       "    </tr>\n",
       "    <tr>\n",
       "      <th>max</th>\n",
       "      <td>1.000000</td>\n",
       "      <td>1.000000</td>\n",
       "      <td>1.000000</td>\n",
       "      <td>4.00000</td>\n",
       "      <td>3.000000</td>\n",
       "      <td>5.352674</td>\n",
       "      <td>4.263185</td>\n",
       "      <td>149.000000</td>\n",
       "    </tr>\n",
       "  </tbody>\n",
       "</table>\n",
       "</div>"
      ],
      "text/plain": [
       "           nofish    livebait      camper    persons       child          xb  \\\n",
       "count  250.000000  250.000000  250.000000  250.00000  250.000000  250.000000   \n",
       "mean     0.296000    0.864000    0.588000    2.52800    0.684000    0.973796   \n",
       "std      0.457407    0.343476    0.493182    1.11273    0.850315    1.440277   \n",
       "min      0.000000    0.000000    0.000000    1.00000    0.000000   -3.275050   \n",
       "25%      0.000000    1.000000    0.000000    2.00000    0.000000    0.008267   \n",
       "50%      0.000000    1.000000    1.000000    2.00000    0.000000    0.954550   \n",
       "75%      1.000000    1.000000    1.000000    4.00000    1.000000    1.963855   \n",
       "max      1.000000    1.000000    1.000000    4.00000    3.000000    5.352674   \n",
       "\n",
       "               zg       count  \n",
       "count  250.000000  250.000000  \n",
       "mean     0.252323    3.296000  \n",
       "std      2.102391   11.635028  \n",
       "min     -5.625944    0.000000  \n",
       "25%     -1.252724    0.000000  \n",
       "50%      0.605079    0.000000  \n",
       "75%      1.993237    2.000000  \n",
       "max      4.263185  149.000000  "
      ]
     },
     "execution_count": 4,
     "metadata": {},
     "output_type": "execute_result"
    }
   ],
   "source": [
    "df.describe()"
   ]
  },
  {
   "cell_type": "code",
   "execution_count": 5,
   "metadata": {},
   "outputs": [
    {
     "data": {
      "image/png": "[encoded data removed]",
      "text/plain": [
       "<Figure size 720x432 with 3 Axes>"
      ]
     },
     "metadata": {
      "needs_background": "light"
     },
     "output_type": "display_data"
    }
   ],
   "source": [
    "f, ax = plt.subplots(3,1,figsize=(10, 6))\n",
    "\n",
    "ax[0].hist(df[df.camper==0]['count'], bins=20, edgecolor=\"k\", linewidth=1.2)\n",
    "ax[0].set_yscale('log')\n",
    "ax[0].set_xlim([0,150])\n",
    "ax[0].set_title('camper=0')\n",
    "ax[1].hist(df[df.camper==1]['count'], bins=20, edgecolor=\"k\", linewidth=1.2)\n",
    "ax[1].set_yscale('log')\n",
    "ax[1].set_xlim([0,150])\n",
    "ax[1].set_title('camper=1')\n",
    "ax[2].hist(df['count'], bins=20, edgecolor=\"k\", linewidth=1.2)\n",
    "ax[2].set_yscale('log')\n",
    "ax[2].set_xlim([0,150])\n",
    "ax[2].set_title('all')\n",
    "\n",
    "f.tight_layout()\n",
    "\n",
    "plt.show()"
   ]
  },
  {
   "cell_type": "markdown",
   "metadata": {},
   "source": [
    "Note that the $p=2$ is for the choice between **NB1** model (variance = mean + $\\alpha\\times$mean) and the **NB2** model (variance = mean + $\\alpha\\times$mean$^2$). (see here: https://towardsdatascience.com/negative-binomial-regression-f99031bb25b4)."
   ]
  },
  {
   "cell_type": "code",
   "execution_count": 6,
   "metadata": {},
   "outputs": [
    {
     "name": "stdout",
     "output_type": "stream",
     "text": [
      "Warning: Maximum number of iterations has been exceeded.\n",
      "         Current function value: 1.731564\n",
      "         Iterations: 35\n",
      "         Function evaluations: 36\n",
      "         Gradient evaluations: 36\n"
     ]
    },
    {
     "name": "stderr",
     "output_type": "stream",
     "text": [
      "/home/seb/py36/lib/python3.6/site-packages/statsmodels/base/model.py:512: ConvergenceWarning: Maximum Likelihood optimization failed to converge. Check mle_retvals\n",
      "  \"Check mle_retvals\", ConvergenceWarning)\n"
     ]
    }
   ],
   "source": [
    "endog_var = df['count'].values\n",
    "exog_vars = np.concatenate([np.ones(df.shape[0]).reshape(-1,1),\n",
    "                            df.child.values.reshape(-1,1),\n",
    "                            df.camper.values.reshape(-1,1)],\n",
    "                           axis=1)\n",
    "exog_vars_infl = np.concatenate([np.ones(df.shape[0]).reshape(-1,1),\n",
    "                                 df.persons.values.reshape(-1,1)],\n",
    "                                axis=1)\n",
    "m = ZINB(endog = endog_var,\n",
    "         exog = exog_vars,\n",
    "         exog_infl=exog_vars_infl,\n",
    "         inflation='logit',\n",
    "         p=2).fit()"
   ]
  },
  {
   "cell_type": "code",
   "execution_count": 7,
   "metadata": {},
   "outputs": [
    {
     "name": "stderr",
     "output_type": "stream",
     "text": [
      "/home/seb/py36/lib/python3.6/site-packages/statsmodels/base/model.py:492: HessianInversionWarning: Inverting hessian failed, no bse or cov_params available\n",
      "  'available', HessianInversionWarning)\n",
      "/home/seb/py36/lib/python3.6/site-packages/statsmodels/base/model.py:492: HessianInversionWarning: Inverting hessian failed, no bse or cov_params available\n",
      "  'available', HessianInversionWarning)\n"
     ]
    },
    {
     "data": {
      "text/html": [
       "<table class=\"simpletable\">\n",
       "<caption>ZeroInflatedNegativeBinomialP Regression Results</caption>\n",
       "<tr>\n",
       "  <th>Dep. Variable:</th>                 <td>y</td>               <th>  No. Observations:  </th>  <td>   250</td>  \n",
       "</tr>\n",
       "<tr>\n",
       "  <th>Model:</th>           <td>ZeroInflatedNegativeBinomialP</td> <th>  Df Residuals:      </th>  <td>   247</td>  \n",
       "</tr>\n",
       "<tr>\n",
       "  <th>Method:</th>                       <td>MLE</td>              <th>  Df Model:          </th>  <td>     2</td>  \n",
       "</tr>\n",
       "<tr>\n",
       "  <th>Date:</th>                  <td>Fri, 17 Apr 2020</td>        <th>  Pseudo R-squ.:     </th>  <td>0.06793</td> \n",
       "</tr>\n",
       "<tr>\n",
       "  <th>Time:</th>                      <td>00:29:44</td>            <th>  Log-Likelihood:    </th> <td> -432.89</td> \n",
       "</tr>\n",
       "<tr>\n",
       "  <th>converged:</th>                   <td>False</td>             <th>  LL-Null:           </th> <td> -464.44</td> \n",
       "</tr>\n",
       "<tr>\n",
       "  <th>Covariance Type:</th>           <td>nonrobust</td>           <th>  LLR p-value:       </th> <td>1.989e-14</td>\n",
       "</tr>\n",
       "</table>\n",
       "<table class=\"simpletable\">\n",
       "<tr>\n",
       "        <td></td>           <th>coef</th>     <th>std err</th>      <th>z</th>      <th>P>|z|</th>  <th>[0.025</th>    <th>0.975]</th>  \n",
       "</tr>\n",
       "<tr>\n",
       "  <th>inflate_const</th> <td>    1.6027</td> <td>    0.836</td> <td>    1.917</td> <td> 0.055</td> <td>   -0.036</td> <td>    3.242</td>\n",
       "</tr>\n",
       "<tr>\n",
       "  <th>inflate_x1</th>    <td>   -1.6661</td> <td>    0.679</td> <td>   -2.454</td> <td> 0.014</td> <td>   -2.997</td> <td>   -0.336</td>\n",
       "</tr>\n",
       "<tr>\n",
       "  <th>const</th>         <td>    1.3709</td> <td>    0.256</td> <td>    5.353</td> <td> 0.000</td> <td>    0.869</td> <td>    1.873</td>\n",
       "</tr>\n",
       "<tr>\n",
       "  <th>x1</th>            <td>   -1.5152</td> <td>    0.196</td> <td>   -7.747</td> <td> 0.000</td> <td>   -1.898</td> <td>   -1.132</td>\n",
       "</tr>\n",
       "<tr>\n",
       "  <th>x2</th>            <td>    0.8791</td> <td>    0.269</td> <td>    3.265</td> <td> 0.001</td> <td>    0.351</td> <td>    1.407</td>\n",
       "</tr>\n",
       "<tr>\n",
       "  <th>alpha</th>         <td>    2.6784</td> <td>    0.471</td> <td>    5.684</td> <td> 0.000</td> <td>    1.755</td> <td>    3.602</td>\n",
       "</tr>\n",
       "</table>"
      ],
      "text/plain": [
       "<class 'statsmodels.iolib.summary.Summary'>\n",
       "\"\"\"\n",
       "                     ZeroInflatedNegativeBinomialP Regression Results                    \n",
       "=========================================================================================\n",
       "Dep. Variable:                                 y   No. Observations:                  250\n",
       "Model:             ZeroInflatedNegativeBinomialP   Df Residuals:                      247\n",
       "Method:                                      MLE   Df Model:                            2\n",
       "Date:                           Fri, 17 Apr 2020   Pseudo R-squ.:                 0.06793\n",
       "Time:                                   00:29:44   Log-Likelihood:                -432.89\n",
       "converged:                                 False   LL-Null:                       -464.44\n",
       "Covariance Type:                       nonrobust   LLR p-value:                 1.989e-14\n",
       "=================================================================================\n",
       "                    coef    std err          z      P>|z|      [0.025      0.975]\n",
       "---------------------------------------------------------------------------------\n",
       "inflate_const     1.6027      0.836      1.917      0.055      -0.036       3.242\n",
       "inflate_x1       -1.6661      0.679     -2.454      0.014      -2.997      -0.336\n",
       "const             1.3709      0.256      5.353      0.000       0.869       1.873\n",
       "x1               -1.5152      0.196     -7.747      0.000      -1.898      -1.132\n",
       "x2                0.8791      0.269      3.265      0.001       0.351       1.407\n",
       "alpha             2.6784      0.471      5.684      0.000       1.755       3.602\n",
       "=================================================================================\n",
       "\"\"\""
      ]
     },
     "execution_count": 7,
     "metadata": {},
     "output_type": "execute_result"
    }
   ],
   "source": [
    "m.summary()"
   ]
  },
  {
   "cell_type": "code",
   "execution_count": 8,
   "metadata": {},
   "outputs": [],
   "source": [
    "yhat = m.predict(exog=exog_vars, exog_infl=exog_vars_infl)"
   ]
  },
  {
   "cell_type": "code",
   "execution_count": 9,
   "metadata": {},
   "outputs": [
    {
     "data": {
      "image/png": "[encoded data removed]",
      "text/plain": [
       "<Figure size 720x432 with 1 Axes>"
      ]
     },
     "metadata": {
      "needs_background": "light"
     },
     "output_type": "display_data"
    }
   ],
   "source": [
    "f, ax = plt.subplots(1,1,figsize=(10, 6))\n",
    "ax.scatter(yhat, df['count'])\n",
    "ax.set_xlabel('prediction')\n",
    "ax.set_ylabel('truth')\n",
    "plt.show()"
   ]
  },
  {
   "cell_type": "markdown",
   "metadata": {},
   "source": [
    "**TODO** \n",
    "\n",
    "- add Vuong tests comparing ZINB to ordinary NB regression\n",
    "\n",
    "- add boostrapped standard errors"
   ]
  }
 ],
 "metadata": {
  "kernelspec": {
   "display_name": "Python 3",
   "language": "python",
   "name": "python3"
  },
  "language_info": {
   "codemirror_mode": {
    "name": "ipython",
    "version": 3
   },
   "file_extension": ".py",
   "mimetype": "text/x-python",
   "name": "python",
   "nbconvert_exporter": "python",
   "pygments_lexer": "ipython3",
   "version": "3.6.9"
  }
 },
 "nbformat": 4,
 "nbformat_minor": 4
}
