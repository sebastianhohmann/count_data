{
 "cells": [
  {
   "cell_type": "markdown",
   "metadata": {},
   "source": [
    "# Simple example of poisson regression with `statsmodels`"
   ]
  },
  {
   "cell_type": "code",
   "execution_count": 1,
   "metadata": {},
   "outputs": [
    {
     "name": "stderr",
     "output_type": "stream",
     "text": [
      "/home/seb/py36/lib/python3.6/site-packages/statsmodels/tools/_testing.py:19: FutureWarning: pandas.util.testing is deprecated. Use the functions in the public API at pandas.testing instead.\n",
      "  import pandas.util.testing as tm\n"
     ]
    }
   ],
   "source": [
    "import numpy as np\n",
    "import pandas as pd\n",
    "\n",
    "import statsmodels.formula.api as smf\n",
    "import statsmodels.api as sm\n",
    "from statsmodels.discrete.discrete_model import Poisson as poisson\n",
    "\n",
    "import matplotlib.pyplot as plt\n",
    "import matplotlib as mpl\n",
    "plt.style.use('seaborn')\n",
    "mpl.rcParams['font.family'] = 'serif'\n",
    "%matplotlib inline"
   ]
  },
  {
   "cell_type": "markdown",
   "metadata": {},
   "source": [
    "Example for generating the data is here: \n",
    "    \n",
    "https://www.theanalysisfactor.com/generalized-linear-models-in-r-part-6-poisson-regression-count-variables/"
   ]
  },
  {
   "cell_type": "code",
   "execution_count": 2,
   "metadata": {},
   "outputs": [],
   "source": [
    "days = [1, 2, 3, 3, 4, 4, 4, 6, 7, 8, \n",
    "        8, 8, 8, 12, 14, 15, 17, 17, 17, 18, 19, 19, 20, \n",
    "        23, 23, 23, 24, 24, 25, 26, 27, 28, 29, 34, 36, 36, \n",
    "        42, 42, 43, 43, 44, 44, 44, 44, 45, 46, 48, 48, 49, \n",
    "        49, 53, 53, 53, 54, 55, 56, 56, 58, 60, 63, 65, 67, \n",
    "        67, 68, 71, 71, 72, 72, 72, 73, 74, 74, 74, 75, 75, \n",
    "        80, 81, 81, 81, 81, 88, 88, 90, 93, 93, 94, 95, 95, \n",
    "        95, 96, 96, 97, 98, 100, 101, 102, 103, 104, 105, \n",
    "        106, 107, 108, 109, 110, 111, 112, 113, 114, 115]\n",
    "\n",
    "students = [6, 8, 12, 9, 3, 3, 11, 5, 7, 3, 8, \n",
    "            4, 6, 8, 3, 6, 3, 2, 2, 6, 3, 7, 7, 2, 2, 8, \n",
    "            3, 6, 5, 7, 6, 4, 4, 3, 3, 5, 3, 3, 3, 5, 3, \n",
    "            5, 6, 3, 3, 3, 3, 2, 3, 1, 3, 3, 5, 4, 4, 3, \n",
    "            5, 4, 3, 5, 3, 4, 2, 3, 3, 1, 3, 2, 5, 4, 3, \n",
    "            0, 3, 3, 4, 0, 3, 3, 4, 0, 2, 2, 1, 1, 2, 0, \n",
    "            2, 1, 1, 0, 0, 1, 1, 2, 2, 1, 1, 1, 1, 0, 0, \n",
    "            0, 1, 1, 0, 0, 0, 0, 0]"
   ]
  },
  {
   "cell_type": "code",
   "execution_count": 3,
   "metadata": {},
   "outputs": [],
   "source": [
    "dat = np.array([days, students]).T\n",
    "df = pd.DataFrame(dat, columns = ['days', 'students'])"
   ]
  },
  {
   "cell_type": "markdown",
   "metadata": {},
   "source": [
    "The following ways of calling the `statsmodels` api are equivalent in this example"
   ]
  },
  {
   "cell_type": "code",
   "execution_count": 4,
   "metadata": {},
   "outputs": [
    {
     "name": "stdout",
     "output_type": "stream",
     "text": [
      "Optimization terminated successfully.\n",
      "         Current function value: 1.784900\n",
      "         Iterations: 8\n",
      "         Function evaluations: 12\n",
      "         Gradient evaluations: 12\n",
      "Optimization terminated successfully.\n",
      "         Current function value: 1.784900\n",
      "         Iterations: 8\n",
      "         Function evaluations: 12\n",
      "         Gradient evaluations: 12\n"
     ]
    }
   ],
   "source": [
    "m1 = smf.poisson('students~days', data=df).fit(method='bfgs')\n",
    "\n",
    "m2 = poisson(endog = dat[:, 1], \n",
    "             exog = np.concatenate([np.ones(dat[:, 0].shape).reshape(-1,1),\n",
    "                                    dat[:, 0].reshape(-1,1)], axis=1)).fit(method='bfgs')\n",
    "\n",
    "m3 = sm.GLM(endog = dat[:, 1],\n",
    "            exog = np.concatenate([np.ones(dat[:, 0].shape).reshape(-1,1),\n",
    "                                   dat[:, 0].reshape(-1,1)], axis=1),\n",
    "            family = sm.families.Poisson()).fit()"
   ]
  },
  {
   "cell_type": "code",
   "execution_count": 5,
   "metadata": {},
   "outputs": [
    {
     "data": {
      "text/html": [
       "<table class=\"simpletable\">\n",
       "<caption>Poisson Regression Results</caption>\n",
       "<tr>\n",
       "  <th>Dep. Variable:</th>       <td>students</td>     <th>  No. Observations:  </th>  <td>   109</td>  \n",
       "</tr>\n",
       "<tr>\n",
       "  <th>Model:</th>                <td>Poisson</td>     <th>  Df Residuals:      </th>  <td>   107</td>  \n",
       "</tr>\n",
       "<tr>\n",
       "  <th>Method:</th>                 <td>MLE</td>       <th>  Df Model:          </th>  <td>     1</td>  \n",
       "</tr>\n",
       "<tr>\n",
       "  <th>Date:</th>            <td>Sun, 12 Apr 2020</td> <th>  Pseudo R-squ.:     </th>  <td>0.2269</td>  \n",
       "</tr>\n",
       "<tr>\n",
       "  <th>Time:</th>                <td>12:06:07</td>     <th>  Log-Likelihood:    </th> <td> -194.55</td> \n",
       "</tr>\n",
       "<tr>\n",
       "  <th>converged:</th>             <td>True</td>       <th>  LL-Null:           </th> <td> -251.64</td> \n",
       "</tr>\n",
       "<tr>\n",
       "  <th>Covariance Type:</th>     <td>nonrobust</td>    <th>  LLR p-value:       </th> <td>1.189e-26</td>\n",
       "</tr>\n",
       "</table>\n",
       "<table class=\"simpletable\">\n",
       "<tr>\n",
       "      <td></td>         <th>coef</th>     <th>std err</th>      <th>z</th>      <th>P>|z|</th>  <th>[0.025</th>    <th>0.975]</th>  \n",
       "</tr>\n",
       "<tr>\n",
       "  <th>Intercept</th> <td>    1.9902</td> <td>    0.084</td> <td>   23.712</td> <td> 0.000</td> <td>    1.826</td> <td>    2.155</td>\n",
       "</tr>\n",
       "<tr>\n",
       "  <th>days</th>      <td>   -0.0175</td> <td>    0.002</td> <td>  -10.114</td> <td> 0.000</td> <td>   -0.021</td> <td>   -0.014</td>\n",
       "</tr>\n",
       "</table>"
      ],
      "text/plain": [
       "<class 'statsmodels.iolib.summary.Summary'>\n",
       "\"\"\"\n",
       "                          Poisson Regression Results                          \n",
       "==============================================================================\n",
       "Dep. Variable:               students   No. Observations:                  109\n",
       "Model:                        Poisson   Df Residuals:                      107\n",
       "Method:                           MLE   Df Model:                            1\n",
       "Date:                Sun, 12 Apr 2020   Pseudo R-squ.:                  0.2269\n",
       "Time:                        12:06:07   Log-Likelihood:                -194.55\n",
       "converged:                       True   LL-Null:                       -251.64\n",
       "Covariance Type:            nonrobust   LLR p-value:                 1.189e-26\n",
       "==============================================================================\n",
       "                 coef    std err          z      P>|z|      [0.025      0.975]\n",
       "------------------------------------------------------------------------------\n",
       "Intercept      1.9902      0.084     23.712      0.000       1.826       2.155\n",
       "days          -0.0175      0.002    -10.114      0.000      -0.021      -0.014\n",
       "==============================================================================\n",
       "\"\"\""
      ]
     },
     "execution_count": 5,
     "metadata": {},
     "output_type": "execute_result"
    }
   ],
   "source": [
    "m1.summary()\n",
    "# m2.summary()\n",
    "# m3.summary()"
   ]
  },
  {
   "cell_type": "code",
   "execution_count": 6,
   "metadata": {},
   "outputs": [],
   "source": [
    "yhat = m1.predict(df.days)"
   ]
  },
  {
   "cell_type": "code",
   "execution_count": 7,
   "metadata": {},
   "outputs": [
    {
     "data": {
      "image/png": "[encoded data removed]",
      "text/plain": [
       "<Figure size 720x432 with 1 Axes>"
      ]
     },
     "metadata": {
      "needs_background": "light"
     },
     "output_type": "display_data"
    }
   ],
   "source": [
    "f, ax = plt.subplots(1,1,figsize=(10, 6))\n",
    "ax.scatter(df.days, df.students)\n",
    "ax.plot(df.days, yhat, color='red', label='fitted values')\n",
    "ax.set_xlabel('days')\n",
    "ax.set_ylabel('students')\n",
    "ax.legend()\n",
    "plt.show()"
   ]
  }
 ],
 "metadata": {
  "kernelspec": {
   "display_name": "Python 3",
   "language": "python",
   "name": "python3"
  },
  "language_info": {
   "codemirror_mode": {
    "name": "ipython",
    "version": 3
   },
   "file_extension": ".py",
   "mimetype": "text/x-python",
   "name": "python",
   "nbconvert_exporter": "python",
   "pygments_lexer": "ipython3",
   "version": "3.6.9"
  }
 },
 "nbformat": 4,
 "nbformat_minor": 4
}
