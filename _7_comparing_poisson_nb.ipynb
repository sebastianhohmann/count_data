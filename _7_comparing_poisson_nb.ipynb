{
 "cells": [
  {
   "cell_type": "markdown",
   "metadata": {},
   "source": [
    "# Comparing poisson and negative binomial regression"
   ]
  },
  {
   "cell_type": "markdown",
   "metadata": {},
   "source": [
    "This notbook replicates the nice examples by Sachin Date posted on towardsdatascience on how to model bike traffic across bridges in NYC. He considers both Poisson and Negative Binomial regressions."
   ]
  },
  {
   "cell_type": "code",
   "execution_count": 1,
   "metadata": {},
   "outputs": [
    {
     "name": "stderr",
     "output_type": "stream",
     "text": [
      "/home/seb/py36/lib/python3.6/site-packages/statsmodels/tools/_testing.py:19: FutureWarning: pandas.util.testing is deprecated. Use the functions in the public API at pandas.testing instead.\n",
      "  import pandas.util.testing as tm\n"
     ]
    }
   ],
   "source": [
    "import numpy as np\n",
    "import pandas as pd\n",
    "import matplotlib.pyplot as plt\n",
    "import matplotlib as mpl\n",
    "plt.style.use('seaborn')\n",
    "mpl.rcParams['font.family'] = 'serif'\n",
    "%matplotlib inline\n",
    "\n",
    "import statsmodels.api as sm"
   ]
  },
  {
   "cell_type": "markdown",
   "metadata": {},
   "source": [
    "# 1) Poisson model"
   ]
  },
  {
   "cell_type": "markdown",
   "metadata": {},
   "source": [
    "https://towardsdatascience.com/an-illustrated-guide-to-the-poisson-regression-model-50cccba15958"
   ]
  },
  {
   "cell_type": "code",
   "execution_count": 2,
   "metadata": {},
   "outputs": [],
   "source": [
    "df = pd.read_csv('./nyc_bb_bicyclist_counts.csv', header=0, infer_datetime_format=True, parse_dates=[0], index_col=[0])"
   ]
  },
  {
   "cell_type": "code",
   "execution_count": 3,
   "metadata": {},
   "outputs": [
    {
     "data": {
      "text/html": [
       "<div>\n",
       "<style scoped>\n",
       "    .dataframe tbody tr th:only-of-type {\n",
       "        vertical-align: middle;\n",
       "    }\n",
       "\n",
       "    .dataframe tbody tr th {\n",
       "        vertical-align: top;\n",
       "    }\n",
       "\n",
       "    .dataframe thead th {\n",
       "        text-align: right;\n",
       "    }\n",
       "</style>\n",
       "<table border=\"1\" class=\"dataframe\">\n",
       "  <thead>\n",
       "    <tr style=\"text-align: right;\">\n",
       "      <th></th>\n",
       "      <th>HIGH_T</th>\n",
       "      <th>LOW_T</th>\n",
       "      <th>PRECIP</th>\n",
       "      <th>BB_COUNT</th>\n",
       "      <th>MONTH</th>\n",
       "      <th>DAY_OF_WEEK</th>\n",
       "      <th>DAY</th>\n",
       "    </tr>\n",
       "    <tr>\n",
       "      <th>Date</th>\n",
       "      <th></th>\n",
       "      <th></th>\n",
       "      <th></th>\n",
       "      <th></th>\n",
       "      <th></th>\n",
       "      <th></th>\n",
       "      <th></th>\n",
       "    </tr>\n",
       "  </thead>\n",
       "  <tbody>\n",
       "    <tr>\n",
       "      <th>2017-04-01</th>\n",
       "      <td>46.0</td>\n",
       "      <td>37.0</td>\n",
       "      <td>0.00</td>\n",
       "      <td>606</td>\n",
       "      <td>4</td>\n",
       "      <td>5</td>\n",
       "      <td>1</td>\n",
       "    </tr>\n",
       "    <tr>\n",
       "      <th>2017-04-02</th>\n",
       "      <td>62.1</td>\n",
       "      <td>41.0</td>\n",
       "      <td>0.00</td>\n",
       "      <td>2021</td>\n",
       "      <td>4</td>\n",
       "      <td>6</td>\n",
       "      <td>2</td>\n",
       "    </tr>\n",
       "    <tr>\n",
       "      <th>2017-04-03</th>\n",
       "      <td>63.0</td>\n",
       "      <td>50.0</td>\n",
       "      <td>0.03</td>\n",
       "      <td>2470</td>\n",
       "      <td>4</td>\n",
       "      <td>0</td>\n",
       "      <td>3</td>\n",
       "    </tr>\n",
       "    <tr>\n",
       "      <th>2017-04-04</th>\n",
       "      <td>51.1</td>\n",
       "      <td>46.0</td>\n",
       "      <td>1.18</td>\n",
       "      <td>723</td>\n",
       "      <td>4</td>\n",
       "      <td>1</td>\n",
       "      <td>4</td>\n",
       "    </tr>\n",
       "    <tr>\n",
       "      <th>2017-04-05</th>\n",
       "      <td>63.0</td>\n",
       "      <td>46.0</td>\n",
       "      <td>0.00</td>\n",
       "      <td>2807</td>\n",
       "      <td>4</td>\n",
       "      <td>2</td>\n",
       "      <td>5</td>\n",
       "    </tr>\n",
       "    <tr>\n",
       "      <th>...</th>\n",
       "      <td>...</td>\n",
       "      <td>...</td>\n",
       "      <td>...</td>\n",
       "      <td>...</td>\n",
       "      <td>...</td>\n",
       "      <td>...</td>\n",
       "      <td>...</td>\n",
       "    </tr>\n",
       "    <tr>\n",
       "      <th>2017-10-27</th>\n",
       "      <td>62.1</td>\n",
       "      <td>48.0</td>\n",
       "      <td>0.00</td>\n",
       "      <td>3150</td>\n",
       "      <td>10</td>\n",
       "      <td>4</td>\n",
       "      <td>27</td>\n",
       "    </tr>\n",
       "    <tr>\n",
       "      <th>2017-10-28</th>\n",
       "      <td>68.0</td>\n",
       "      <td>55.9</td>\n",
       "      <td>0.00</td>\n",
       "      <td>2245</td>\n",
       "      <td>10</td>\n",
       "      <td>5</td>\n",
       "      <td>28</td>\n",
       "    </tr>\n",
       "    <tr>\n",
       "      <th>2017-10-29</th>\n",
       "      <td>64.9</td>\n",
       "      <td>61.0</td>\n",
       "      <td>3.03</td>\n",
       "      <td>183</td>\n",
       "      <td>10</td>\n",
       "      <td>6</td>\n",
       "      <td>29</td>\n",
       "    </tr>\n",
       "    <tr>\n",
       "      <th>2017-10-30</th>\n",
       "      <td>55.0</td>\n",
       "      <td>46.0</td>\n",
       "      <td>0.25</td>\n",
       "      <td>1428</td>\n",
       "      <td>10</td>\n",
       "      <td>0</td>\n",
       "      <td>30</td>\n",
       "    </tr>\n",
       "    <tr>\n",
       "      <th>2017-10-31</th>\n",
       "      <td>54.0</td>\n",
       "      <td>44.0</td>\n",
       "      <td>0.00</td>\n",
       "      <td>2727</td>\n",
       "      <td>10</td>\n",
       "      <td>1</td>\n",
       "      <td>31</td>\n",
       "    </tr>\n",
       "  </tbody>\n",
       "</table>\n",
       "<p>214 rows × 7 columns</p>\n",
       "</div>"
      ],
      "text/plain": [
       "            HIGH_T  LOW_T  PRECIP  BB_COUNT  MONTH  DAY_OF_WEEK  DAY\n",
       "Date                                                                \n",
       "2017-04-01    46.0   37.0    0.00       606      4            5    1\n",
       "2017-04-02    62.1   41.0    0.00      2021      4            6    2\n",
       "2017-04-03    63.0   50.0    0.03      2470      4            0    3\n",
       "2017-04-04    51.1   46.0    1.18       723      4            1    4\n",
       "2017-04-05    63.0   46.0    0.00      2807      4            2    5\n",
       "...            ...    ...     ...       ...    ...          ...  ...\n",
       "2017-10-27    62.1   48.0    0.00      3150     10            4   27\n",
       "2017-10-28    68.0   55.9    0.00      2245     10            5   28\n",
       "2017-10-29    64.9   61.0    3.03       183     10            6   29\n",
       "2017-10-30    55.0   46.0    0.25      1428     10            0   30\n",
       "2017-10-31    54.0   44.0    0.00      2727     10            1   31\n",
       "\n",
       "[214 rows x 7 columns]"
      ]
     },
     "execution_count": 3,
     "metadata": {},
     "output_type": "execute_result"
    }
   ],
   "source": [
    "ds = df.index.to_series()\n",
    "df['MONTH'] = ds.dt.month\n",
    "df['DAY_OF_WEEK'] = ds.dt.dayofweek\n",
    "df['DAY'] = ds.dt.day\n",
    "df"
   ]
  },
  {
   "cell_type": "code",
   "execution_count": 4,
   "metadata": {},
   "outputs": [
    {
     "data": {
      "image/png": "[encoded data removed]",
      "text/plain": [
       "<Figure size 720x432 with 1 Axes>"
      ]
     },
     "metadata": {
      "needs_background": "light"
     },
     "output_type": "display_data"
    }
   ],
   "source": [
    "f, ax = plt.subplots(1,1, figsize=(10, 6))\n",
    "ax.bar(df.index, df.BB_COUNT)\n",
    "ax.set_xticks(df.index[[0, 50, 100, 150, 200]])\n",
    "plt.show()"
   ]
  },
  {
   "cell_type": "markdown",
   "metadata": {},
   "source": [
    "creating training at test sets"
   ]
  },
  {
   "cell_type": "markdown",
   "metadata": {},
   "source": [
    "Sachin does a random split into train and test to predict bike traffic. This seems wrong. We will do a standard temporal split to avoid data leakage."
   ]
  },
  {
   "cell_type": "code",
   "execution_count": 5,
   "metadata": {},
   "outputs": [
    {
     "name": "stdout",
     "output_type": "stream",
     "text": [
      "Train set length=171\n",
      "Test set length=43\n"
     ]
    }
   ],
   "source": [
    "df_train = df.iloc[0:4*df.shape[0]//5,:]\n",
    "df_test = df.iloc[4*df.shape[0]//5:df.shape[0]+1,:]\n",
    "print('Train set length='+str(len(df_train)))\n",
    "print('Test set length='+str(len(df_test)))"
   ]
  },
  {
   "cell_type": "code",
   "execution_count": 6,
   "metadata": {},
   "outputs": [],
   "source": [
    "y_train = df_train.BB_COUNT.values\n",
    "y_test = df_test.BB_COUNT.values\n",
    "X_train = np.concatenate([np.ones(df_train.shape[0]).reshape(-1,1),\n",
    "                          df_train.DAY.values.reshape(-1,1),\n",
    "                          df_train.DAY_OF_WEEK.values.reshape(-1,1),\n",
    "                          df_train.MONTH.values.reshape(-1,1),\n",
    "                          df_train.HIGH_T.values.reshape(-1,1),\n",
    "                          df_train.LOW_T.values.reshape(-1,1),\n",
    "                          df_train.PRECIP.values.reshape(-1,1)],\n",
    "                         axis=1)\n",
    "X_test = np.concatenate([np.ones(df_test.shape[0]).reshape(-1,1),\n",
    "                          df_test.DAY.values.reshape(-1,1),\n",
    "                          df_test.DAY_OF_WEEK.values.reshape(-1,1),\n",
    "                          df_test.MONTH.values.reshape(-1,1),\n",
    "                          df_test.HIGH_T.values.reshape(-1,1),\n",
    "                          df_test.LOW_T.values.reshape(-1,1),\n",
    "                          df_test.PRECIP.values.reshape(-1,1)],\n",
    "                         axis=1)"
   ]
  },
  {
   "cell_type": "code",
   "execution_count": 7,
   "metadata": {},
   "outputs": [],
   "source": [
    "m = sm.GLM(endog = y_train,\n",
    "           exog = X_train,\n",
    "           family = sm.families.Poisson()).fit()"
   ]
  },
  {
   "cell_type": "code",
   "execution_count": 8,
   "metadata": {},
   "outputs": [
    {
     "data": {
      "text/html": [
       "<table class=\"simpletable\">\n",
       "<caption>Generalized Linear Model Regression Results</caption>\n",
       "<tr>\n",
       "  <th>Dep. Variable:</th>           <td>y</td>        <th>  No. Observations:  </th>  <td>   171</td> \n",
       "</tr>\n",
       "<tr>\n",
       "  <th>Model:</th>                  <td>GLM</td>       <th>  Df Residuals:      </th>  <td>   164</td> \n",
       "</tr>\n",
       "<tr>\n",
       "  <th>Model Family:</th>         <td>Poisson</td>     <th>  Df Model:          </th>  <td>     6</td> \n",
       "</tr>\n",
       "<tr>\n",
       "  <th>Link Function:</th>          <td>log</td>       <th>  Scale:             </th> <td>  1.0000</td>\n",
       "</tr>\n",
       "<tr>\n",
       "  <th>Method:</th>                <td>IRLS</td>       <th>  Log-Likelihood:    </th> <td> -12394.</td>\n",
       "</tr>\n",
       "<tr>\n",
       "  <th>Date:</th>            <td>Thu, 16 Apr 2020</td> <th>  Deviance:          </th> <td>  23138.</td>\n",
       "</tr>\n",
       "<tr>\n",
       "  <th>Time:</th>                <td>22:54:17</td>     <th>  Pearson chi2:      </th> <td>2.30e+04</td>\n",
       "</tr>\n",
       "<tr>\n",
       "  <th>No. Iterations:</th>          <td>5</td>        <th>                     </th>     <td> </td>   \n",
       "</tr>\n",
       "<tr>\n",
       "  <th>Covariance Type:</th>     <td>nonrobust</td>    <th>                     </th>     <td> </td>   \n",
       "</tr>\n",
       "</table>\n",
       "<table class=\"simpletable\">\n",
       "<tr>\n",
       "    <td></td>       <th>coef</th>     <th>std err</th>      <th>z</th>      <th>P>|z|</th>  <th>[0.025</th>    <th>0.975]</th>  \n",
       "</tr>\n",
       "<tr>\n",
       "  <th>const</th> <td>    6.9437</td> <td>    0.012</td> <td>  572.461</td> <td> 0.000</td> <td>    6.920</td> <td>    6.967</td>\n",
       "</tr>\n",
       "<tr>\n",
       "  <th>x1</th>    <td>    0.0014</td> <td>    0.000</td> <td>    7.856</td> <td> 0.000</td> <td>    0.001</td> <td>    0.002</td>\n",
       "</tr>\n",
       "<tr>\n",
       "  <th>x2</th>    <td>   -0.0186</td> <td>    0.001</td> <td>  -25.309</td> <td> 0.000</td> <td>   -0.020</td> <td>   -0.017</td>\n",
       "</tr>\n",
       "<tr>\n",
       "  <th>x3</th>    <td>    0.0304</td> <td>    0.001</td> <td>   27.397</td> <td> 0.000</td> <td>    0.028</td> <td>    0.033</td>\n",
       "</tr>\n",
       "<tr>\n",
       "  <th>x4</th>    <td>    0.0247</td> <td>    0.000</td> <td>   73.215</td> <td> 0.000</td> <td>    0.024</td> <td>    0.025</td>\n",
       "</tr>\n",
       "<tr>\n",
       "  <th>x5</th>    <td>   -0.0160</td> <td>    0.000</td> <td>  -41.159</td> <td> 0.000</td> <td>   -0.017</td> <td>   -0.015</td>\n",
       "</tr>\n",
       "<tr>\n",
       "  <th>x6</th>    <td>   -0.7305</td> <td>    0.007</td> <td> -103.481</td> <td> 0.000</td> <td>   -0.744</td> <td>   -0.717</td>\n",
       "</tr>\n",
       "</table>"
      ],
      "text/plain": [
       "<class 'statsmodels.iolib.summary.Summary'>\n",
       "\"\"\"\n",
       "                 Generalized Linear Model Regression Results                  \n",
       "==============================================================================\n",
       "Dep. Variable:                      y   No. Observations:                  171\n",
       "Model:                            GLM   Df Residuals:                      164\n",
       "Model Family:                 Poisson   Df Model:                            6\n",
       "Link Function:                    log   Scale:                          1.0000\n",
       "Method:                          IRLS   Log-Likelihood:                -12394.\n",
       "Date:                Thu, 16 Apr 2020   Deviance:                       23138.\n",
       "Time:                        22:54:17   Pearson chi2:                 2.30e+04\n",
       "No. Iterations:                     5                                         \n",
       "Covariance Type:            nonrobust                                         \n",
       "==============================================================================\n",
       "                 coef    std err          z      P>|z|      [0.025      0.975]\n",
       "------------------------------------------------------------------------------\n",
       "const          6.9437      0.012    572.461      0.000       6.920       6.967\n",
       "x1             0.0014      0.000      7.856      0.000       0.001       0.002\n",
       "x2            -0.0186      0.001    -25.309      0.000      -0.020      -0.017\n",
       "x3             0.0304      0.001     27.397      0.000       0.028       0.033\n",
       "x4             0.0247      0.000     73.215      0.000       0.024       0.025\n",
       "x5            -0.0160      0.000    -41.159      0.000      -0.017      -0.015\n",
       "x6            -0.7305      0.007   -103.481      0.000      -0.744      -0.717\n",
       "==============================================================================\n",
       "\"\"\""
      ]
     },
     "execution_count": 8,
     "metadata": {},
     "output_type": "execute_result"
    }
   ],
   "source": [
    "m.summary()"
   ]
  },
  {
   "cell_type": "code",
   "execution_count": 9,
   "metadata": {},
   "outputs": [],
   "source": [
    "y_pred_poisson = m.predict(X_test)"
   ]
  },
  {
   "cell_type": "code",
   "execution_count": 10,
   "metadata": {},
   "outputs": [
    {
     "data": {
      "image/png": "[encoded data removed]",
      "text/plain": [
       "<Figure size 720x432 with 1 Axes>"
      ]
     },
     "metadata": {
      "needs_background": "light"
     },
     "output_type": "display_data"
    }
   ],
   "source": [
    "f, ax = plt.subplots(1,1, figsize=(10,6))\n",
    "\n",
    "ax.plot(df_test.index, y_test, 'o-', label='actual counts')\n",
    "ax.plot(df_test.index, y_pred_poisson, 'o-', label='predicted counts')\n",
    "\n",
    "ax.legend()\n",
    "\n",
    "plt.show()"
   ]
  },
  {
   "cell_type": "markdown",
   "metadata": {},
   "source": [
    "# 2) Negative Binomial model"
   ]
  },
  {
   "cell_type": "markdown",
   "metadata": {},
   "source": [
    "https://towardsdatascience.com/negative-binomial-regression-f99031bb25b4"
   ]
  },
  {
   "cell_type": "markdown",
   "metadata": {},
   "source": [
    "We use the same data, train and test sets are defined as above"
   ]
  },
  {
   "cell_type": "markdown",
   "metadata": {},
   "source": [
    "## 2.1) Run poisson regression to find the $\\lambda_i$"
   ]
  },
  {
   "cell_type": "code",
   "execution_count": 11,
   "metadata": {},
   "outputs": [],
   "source": [
    "m = sm.GLM(endog = y_train,\n",
    "           exog = X_train,\n",
    "           family = sm.families.Poisson()).fit()"
   ]
  },
  {
   "cell_type": "markdown",
   "metadata": {},
   "source": [
    "recall that $\\lambda_i = \\mathrm{e}^{\\mathbf{\\theta}'\\mathbf{x}_i}$. In statsmodels, these are stored in the `model_name.mu`. Uncomment the following line to verify."
   ]
  },
  {
   "cell_type": "code",
   "execution_count": 12,
   "metadata": {},
   "outputs": [],
   "source": [
    "# np.exp(X_train @ m.params.reshape(-1,1)) - m.mu.reshape(-1,1)"
   ]
  },
  {
   "cell_type": "markdown",
   "metadata": {},
   "source": [
    "## 2.2) Run the auxiliary OLS regression without intercept to find $\\alpha$ and check if it is significant"
   ]
  },
  {
   "cell_type": "code",
   "execution_count": 13,
   "metadata": {},
   "outputs": [],
   "source": [
    "aux_ols_dep = ((y_train - m.mu) ** 2 - y_train) / m.mu"
   ]
  },
  {
   "cell_type": "code",
   "execution_count": 14,
   "metadata": {},
   "outputs": [],
   "source": [
    "mols = sm.OLS(aux_ols_dep, m.mu.reshape(-1,1)).fit()"
   ]
  },
  {
   "cell_type": "code",
   "execution_count": 15,
   "metadata": {},
   "outputs": [
    {
     "data": {
      "text/html": [
       "<table class=\"simpletable\">\n",
       "<caption>OLS Regression Results</caption>\n",
       "<tr>\n",
       "  <th>Dep. Variable:</th>            <td>y</td>        <th>  R-squared (uncentered):</th>      <td>   0.158</td>\n",
       "</tr>\n",
       "<tr>\n",
       "  <th>Model:</th>                   <td>OLS</td>       <th>  Adj. R-squared (uncentered):</th> <td>   0.153</td>\n",
       "</tr>\n",
       "<tr>\n",
       "  <th>Method:</th>             <td>Least Squares</td>  <th>  F-statistic:       </th>          <td>   31.90</td>\n",
       "</tr>\n",
       "<tr>\n",
       "  <th>Date:</th>             <td>Thu, 16 Apr 2020</td> <th>  Prob (F-statistic):</th>          <td>6.69e-08</td>\n",
       "</tr>\n",
       "<tr>\n",
       "  <th>Time:</th>                 <td>22:54:17</td>     <th>  Log-Likelihood:    </th>          <td> -1185.6</td>\n",
       "</tr>\n",
       "<tr>\n",
       "  <th>No. Observations:</th>      <td>   171</td>      <th>  AIC:               </th>          <td>   2373.</td>\n",
       "</tr>\n",
       "<tr>\n",
       "  <th>Df Residuals:</th>          <td>   170</td>      <th>  BIC:               </th>          <td>   2376.</td>\n",
       "</tr>\n",
       "<tr>\n",
       "  <th>Df Model:</th>              <td>     1</td>      <th>                     </th>              <td> </td>   \n",
       "</tr>\n",
       "<tr>\n",
       "  <th>Covariance Type:</th>      <td>nonrobust</td>    <th>                     </th>              <td> </td>   \n",
       "</tr>\n",
       "</table>\n",
       "<table class=\"simpletable\">\n",
       "<tr>\n",
       "   <td></td>     <th>coef</th>     <th>std err</th>      <th>t</th>      <th>P>|t|</th>  <th>[0.025</th>    <th>0.975]</th>  \n",
       "</tr>\n",
       "<tr>\n",
       "  <th>x1</th> <td>    0.0389</td> <td>    0.007</td> <td>    5.648</td> <td> 0.000</td> <td>    0.025</td> <td>    0.052</td>\n",
       "</tr>\n",
       "</table>\n",
       "<table class=\"simpletable\">\n",
       "<tr>\n",
       "  <th>Omnibus:</th>       <td>134.910</td> <th>  Durbin-Watson:     </th> <td>   2.065</td> \n",
       "</tr>\n",
       "<tr>\n",
       "  <th>Prob(Omnibus):</th> <td> 0.000</td>  <th>  Jarque-Bera (JB):  </th> <td>1100.769</td> \n",
       "</tr>\n",
       "<tr>\n",
       "  <th>Skew:</th>          <td> 3.064</td>  <th>  Prob(JB):          </th> <td>9.36e-240</td>\n",
       "</tr>\n",
       "<tr>\n",
       "  <th>Kurtosis:</th>      <td>13.814</td>  <th>  Cond. No.          </th> <td>    1.00</td> \n",
       "</tr>\n",
       "</table><br/><br/>Warnings:<br/>[1] Standard Errors assume that the covariance matrix of the errors is correctly specified."
      ],
      "text/plain": [
       "<class 'statsmodels.iolib.summary.Summary'>\n",
       "\"\"\"\n",
       "                                 OLS Regression Results                                \n",
       "=======================================================================================\n",
       "Dep. Variable:                      y   R-squared (uncentered):                   0.158\n",
       "Model:                            OLS   Adj. R-squared (uncentered):              0.153\n",
       "Method:                 Least Squares   F-statistic:                              31.90\n",
       "Date:                Thu, 16 Apr 2020   Prob (F-statistic):                    6.69e-08\n",
       "Time:                        22:54:17   Log-Likelihood:                         -1185.6\n",
       "No. Observations:                 171   AIC:                                      2373.\n",
       "Df Residuals:                     170   BIC:                                      2376.\n",
       "Df Model:                           1                                                  \n",
       "Covariance Type:            nonrobust                                                  \n",
       "==============================================================================\n",
       "                 coef    std err          t      P>|t|      [0.025      0.975]\n",
       "------------------------------------------------------------------------------\n",
       "x1             0.0389      0.007      5.648      0.000       0.025       0.052\n",
       "==============================================================================\n",
       "Omnibus:                      134.910   Durbin-Watson:                   2.065\n",
       "Prob(Omnibus):                  0.000   Jarque-Bera (JB):             1100.769\n",
       "Skew:                           3.064   Prob(JB):                    9.36e-240\n",
       "Kurtosis:                      13.814   Cond. No.                         1.00\n",
       "==============================================================================\n",
       "\n",
       "Warnings:\n",
       "[1] Standard Errors assume that the covariance matrix of the errors is correctly specified.\n",
       "\"\"\""
      ]
     },
     "execution_count": 15,
     "metadata": {},
     "output_type": "execute_result"
    }
   ],
   "source": [
    "mols.summary()"
   ]
  },
  {
   "cell_type": "markdown",
   "metadata": {},
   "source": [
    "We see that alpha is significant and equals"
   ]
  },
  {
   "cell_type": "code",
   "execution_count": 16,
   "metadata": {},
   "outputs": [
    {
     "data": {
      "text/plain": [
       "0.03890351605413943"
      ]
     },
     "execution_count": 16,
     "metadata": {},
     "output_type": "execute_result"
    }
   ],
   "source": [
    "alpha = mols.params[0]\n",
    "alpha"
   ]
  },
  {
   "cell_type": "markdown",
   "metadata": {},
   "source": [
    "## 2.3) Fit the negative binomial with the alpha we found"
   ]
  },
  {
   "cell_type": "code",
   "execution_count": 17,
   "metadata": {},
   "outputs": [],
   "source": [
    "m = sm.GLM(endog = y_train,\n",
    "           exog = X_train,\n",
    "           family = sm.families.NegativeBinomial(link=None, alpha=alpha)).fit()"
   ]
  },
  {
   "cell_type": "code",
   "execution_count": 18,
   "metadata": {},
   "outputs": [
    {
     "data": {
      "text/html": [
       "<table class=\"simpletable\">\n",
       "<caption>Generalized Linear Model Regression Results</caption>\n",
       "<tr>\n",
       "  <th>Dep. Variable:</th>           <td>y</td>        <th>  No. Observations:  </th>  <td>   171</td> \n",
       "</tr>\n",
       "<tr>\n",
       "  <th>Model:</th>                  <td>GLM</td>       <th>  Df Residuals:      </th>  <td>   164</td> \n",
       "</tr>\n",
       "<tr>\n",
       "  <th>Model Family:</th>    <td>NegativeBinomial</td> <th>  Df Model:          </th>  <td>     6</td> \n",
       "</tr>\n",
       "<tr>\n",
       "  <th>Link Function:</th>          <td>log</td>       <th>  Scale:             </th> <td>  1.0000</td>\n",
       "</tr>\n",
       "<tr>\n",
       "  <th>Method:</th>                <td>IRLS</td>       <th>  Log-Likelihood:    </th> <td> -1384.9</td>\n",
       "</tr>\n",
       "<tr>\n",
       "  <th>Date:</th>            <td>Thu, 16 Apr 2020</td> <th>  Deviance:          </th> <td>  337.53</td>\n",
       "</tr>\n",
       "<tr>\n",
       "  <th>Time:</th>                <td>22:54:17</td>     <th>  Pearson chi2:      </th>  <td>  299.</td> \n",
       "</tr>\n",
       "<tr>\n",
       "  <th>No. Iterations:</th>         <td>10</td>        <th>                     </th>     <td> </td>   \n",
       "</tr>\n",
       "<tr>\n",
       "  <th>Covariance Type:</th>     <td>nonrobust</td>    <th>                     </th>     <td> </td>   \n",
       "</tr>\n",
       "</table>\n",
       "<table class=\"simpletable\">\n",
       "<tr>\n",
       "    <td></td>       <th>coef</th>     <th>std err</th>      <th>z</th>      <th>P>|z|</th>  <th>[0.025</th>    <th>0.975]</th>  \n",
       "</tr>\n",
       "<tr>\n",
       "  <th>const</th> <td>    6.6466</td> <td>    0.115</td> <td>   57.933</td> <td> 0.000</td> <td>    6.422</td> <td>    6.871</td>\n",
       "</tr>\n",
       "<tr>\n",
       "  <th>x1</th>    <td>    0.0003</td> <td>    0.002</td> <td>    0.147</td> <td> 0.883</td> <td>   -0.003</td> <td>    0.004</td>\n",
       "</tr>\n",
       "<tr>\n",
       "  <th>x2</th>    <td>   -0.0144</td> <td>    0.008</td> <td>   -1.912</td> <td> 0.056</td> <td>   -0.029</td> <td>    0.000</td>\n",
       "</tr>\n",
       "<tr>\n",
       "  <th>x3</th>    <td>    0.0234</td> <td>    0.012</td> <td>    1.973</td> <td> 0.048</td> <td>    0.000</td> <td>    0.047</td>\n",
       "</tr>\n",
       "<tr>\n",
       "  <th>x4</th>    <td>    0.0310</td> <td>    0.003</td> <td>    9.145</td> <td> 0.000</td> <td>    0.024</td> <td>    0.038</td>\n",
       "</tr>\n",
       "<tr>\n",
       "  <th>x5</th>    <td>   -0.0182</td> <td>    0.004</td> <td>   -4.491</td> <td> 0.000</td> <td>   -0.026</td> <td>   -0.010</td>\n",
       "</tr>\n",
       "<tr>\n",
       "  <th>x6</th>    <td>   -0.6064</td> <td>    0.043</td> <td>  -14.059</td> <td> 0.000</td> <td>   -0.691</td> <td>   -0.522</td>\n",
       "</tr>\n",
       "</table>"
      ],
      "text/plain": [
       "<class 'statsmodels.iolib.summary.Summary'>\n",
       "\"\"\"\n",
       "                 Generalized Linear Model Regression Results                  \n",
       "==============================================================================\n",
       "Dep. Variable:                      y   No. Observations:                  171\n",
       "Model:                            GLM   Df Residuals:                      164\n",
       "Model Family:        NegativeBinomial   Df Model:                            6\n",
       "Link Function:                    log   Scale:                          1.0000\n",
       "Method:                          IRLS   Log-Likelihood:                -1384.9\n",
       "Date:                Thu, 16 Apr 2020   Deviance:                       337.53\n",
       "Time:                        22:54:17   Pearson chi2:                     299.\n",
       "No. Iterations:                    10                                         \n",
       "Covariance Type:            nonrobust                                         \n",
       "==============================================================================\n",
       "                 coef    std err          z      P>|z|      [0.025      0.975]\n",
       "------------------------------------------------------------------------------\n",
       "const          6.6466      0.115     57.933      0.000       6.422       6.871\n",
       "x1             0.0003      0.002      0.147      0.883      -0.003       0.004\n",
       "x2            -0.0144      0.008     -1.912      0.056      -0.029       0.000\n",
       "x3             0.0234      0.012      1.973      0.048       0.000       0.047\n",
       "x4             0.0310      0.003      9.145      0.000       0.024       0.038\n",
       "x5            -0.0182      0.004     -4.491      0.000      -0.026      -0.010\n",
       "x6            -0.6064      0.043    -14.059      0.000      -0.691      -0.522\n",
       "==============================================================================\n",
       "\"\"\""
      ]
     },
     "execution_count": 18,
     "metadata": {},
     "output_type": "execute_result"
    }
   ],
   "source": [
    "m.summary()"
   ]
  },
  {
   "cell_type": "markdown",
   "metadata": {},
   "source": [
    "## 2.4) Predict and compare"
   ]
  },
  {
   "cell_type": "code",
   "execution_count": 19,
   "metadata": {},
   "outputs": [],
   "source": [
    "y_pred_nb = m.predict(X_test)"
   ]
  },
  {
   "cell_type": "code",
   "execution_count": 20,
   "metadata": {},
   "outputs": [
    {
     "data": {
      "image/png": "[encoded data removed]",
      "text/plain": [
       "<Figure size 720x432 with 1 Axes>"
      ]
     },
     "metadata": {
      "needs_background": "light"
     },
     "output_type": "display_data"
    }
   ],
   "source": [
    "f, ax = plt.subplots(1,1, figsize=(10,6))\n",
    "\n",
    "ax.plot(df_test.index, y_test, 'o-', label='actual counts')\n",
    "ax.plot(df_test.index, y_pred_poisson, 'o-', label='predicted counts, Poisson')\n",
    "ax.plot(df_test.index, y_pred_nb, 'o-', label='predicted counts, NB')\n",
    "\n",
    "ax.legend()\n",
    "\n",
    "plt.show()"
   ]
  }
 ],
 "metadata": {
  "kernelspec": {
   "display_name": "Python 3",
   "language": "python",
   "name": "python3"
  },
  "language_info": {
   "codemirror_mode": {
    "name": "ipython",
    "version": 3
   },
   "file_extension": ".py",
   "mimetype": "text/x-python",
   "name": "python",
   "nbconvert_exporter": "python",
   "pygments_lexer": "ipython3",
   "version": "3.6.9"
  }
 },
 "nbformat": 4,
 "nbformat_minor": 4
}
