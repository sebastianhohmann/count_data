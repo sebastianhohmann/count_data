{
 "cells": [
  {
   "cell_type": "markdown",
   "metadata": {},
   "source": [
    "# Another simple example with `statsmodels`, plus showing how to adjust for over-dispersion"
   ]
  },
  {
   "cell_type": "markdown",
   "metadata": {},
   "source": [
    "The example is taken from here: https://online.stat.psu.edu/stat504/node/169/"
   ]
  },
  {
   "cell_type": "code",
   "execution_count": 1,
   "metadata": {},
   "outputs": [
    {
     "name": "stderr",
     "output_type": "stream",
     "text": [
      "/home/seb/py36/lib/python3.6/site-packages/statsmodels/tools/_testing.py:19: FutureWarning: pandas.util.testing is deprecated. Use the functions in the public API at pandas.testing instead.\n",
      "  import pandas.util.testing as tm\n"
     ]
    }
   ],
   "source": [
    "import numpy as np\n",
    "import pandas as pd\n",
    "\n",
    "import statsmodels.api as sm\n",
    "\n",
    "import matplotlib.pyplot as plt\n",
    "import matplotlib as mpl\n",
    "plt.style.use('seaborn')\n",
    "mpl.rcParams['font.family'] = 'serif'\n",
    "%matplotlib inline"
   ]
  },
  {
   "cell_type": "code",
   "execution_count": 2,
   "metadata": {},
   "outputs": [],
   "source": [
    "df = pd.read_csv('./crab.txt', names=[\"Obs\",\"C\",\"S\",\"W\",\"Wt\",\"Sa\"], sep='\\s+')"
   ]
  },
  {
   "cell_type": "code",
   "execution_count": 3,
   "metadata": {},
   "outputs": [],
   "source": [
    "endog_var = endog = df.Sa.values\n",
    "exog_vars = np.concatenate([np.ones(df.shape[0]).reshape(-1,1),\n",
    "                            df.W.values.reshape(-1,1)],\n",
    "                           axis=1)\n",
    "m = sm.GLM(endog = endog_var,\n",
    "           exog = exog_vars,\n",
    "           family = sm.families.Poisson()).fit()"
   ]
  },
  {
   "cell_type": "code",
   "execution_count": 4,
   "metadata": {},
   "outputs": [
    {
     "data": {
      "text/html": [
       "<table class=\"simpletable\">\n",
       "<caption>Generalized Linear Model Regression Results</caption>\n",
       "<tr>\n",
       "  <th>Dep. Variable:</th>           <td>y</td>        <th>  No. Observations:  </th>  <td>   173</td> \n",
       "</tr>\n",
       "<tr>\n",
       "  <th>Model:</th>                  <td>GLM</td>       <th>  Df Residuals:      </th>  <td>   171</td> \n",
       "</tr>\n",
       "<tr>\n",
       "  <th>Model Family:</th>         <td>Poisson</td>     <th>  Df Model:          </th>  <td>     1</td> \n",
       "</tr>\n",
       "<tr>\n",
       "  <th>Link Function:</th>          <td>log</td>       <th>  Scale:             </th> <td>  1.0000</td>\n",
       "</tr>\n",
       "<tr>\n",
       "  <th>Method:</th>                <td>IRLS</td>       <th>  Log-Likelihood:    </th> <td> -461.59</td>\n",
       "</tr>\n",
       "<tr>\n",
       "  <th>Date:</th>            <td>Sun, 12 Apr 2020</td> <th>  Deviance:          </th> <td>  567.88</td>\n",
       "</tr>\n",
       "<tr>\n",
       "  <th>Time:</th>                <td>12:11:58</td>     <th>  Pearson chi2:      </th>  <td>  544.</td> \n",
       "</tr>\n",
       "<tr>\n",
       "  <th>No. Iterations:</th>          <td>5</td>        <th>                     </th>     <td> </td>   \n",
       "</tr>\n",
       "<tr>\n",
       "  <th>Covariance Type:</th>     <td>nonrobust</td>    <th>                     </th>     <td> </td>   \n",
       "</tr>\n",
       "</table>\n",
       "<table class=\"simpletable\">\n",
       "<tr>\n",
       "    <td></td>       <th>coef</th>     <th>std err</th>      <th>z</th>      <th>P>|z|</th>  <th>[0.025</th>    <th>0.975]</th>  \n",
       "</tr>\n",
       "<tr>\n",
       "  <th>const</th> <td>   -3.3048</td> <td>    0.542</td> <td>   -6.095</td> <td> 0.000</td> <td>   -4.368</td> <td>   -2.242</td>\n",
       "</tr>\n",
       "<tr>\n",
       "  <th>x1</th>    <td>    0.1640</td> <td>    0.020</td> <td>    8.216</td> <td> 0.000</td> <td>    0.125</td> <td>    0.203</td>\n",
       "</tr>\n",
       "</table>"
      ],
      "text/plain": [
       "<class 'statsmodels.iolib.summary.Summary'>\n",
       "\"\"\"\n",
       "                 Generalized Linear Model Regression Results                  \n",
       "==============================================================================\n",
       "Dep. Variable:                      y   No. Observations:                  173\n",
       "Model:                            GLM   Df Residuals:                      171\n",
       "Model Family:                 Poisson   Df Model:                            1\n",
       "Link Function:                    log   Scale:                          1.0000\n",
       "Method:                          IRLS   Log-Likelihood:                -461.59\n",
       "Date:                Sun, 12 Apr 2020   Deviance:                       567.88\n",
       "Time:                        12:11:58   Pearson chi2:                     544.\n",
       "No. Iterations:                     5                                         \n",
       "Covariance Type:            nonrobust                                         \n",
       "==============================================================================\n",
       "                 coef    std err          z      P>|z|      [0.025      0.975]\n",
       "------------------------------------------------------------------------------\n",
       "const         -3.3048      0.542     -6.095      0.000      -4.368      -2.242\n",
       "x1             0.1640      0.020      8.216      0.000       0.125       0.203\n",
       "==============================================================================\n",
       "\"\"\""
      ]
     },
     "execution_count": 4,
     "metadata": {},
     "output_type": "execute_result"
    }
   ],
   "source": [
    "m.summary()"
   ]
  },
  {
   "cell_type": "code",
   "execution_count": 5,
   "metadata": {},
   "outputs": [],
   "source": [
    "df['pred'] = m.predict(exog_vars)\n",
    "df['lindpred'] = m.predict(exog_vars, linear=True)"
   ]
  },
  {
   "cell_type": "markdown",
   "metadata": {},
   "source": [
    "note that `m.predict(exog_vars)` is the same as `np.exp(m.predict(exog_vars, linear=True))`"
   ]
  },
  {
   "cell_type": "code",
   "execution_count": 6,
   "metadata": {},
   "outputs": [
    {
     "data": {
      "text/html": [
       "<div>\n",
       "<style scoped>\n",
       "    .dataframe tbody tr th:only-of-type {\n",
       "        vertical-align: middle;\n",
       "    }\n",
       "\n",
       "    .dataframe tbody tr th {\n",
       "        vertical-align: top;\n",
       "    }\n",
       "\n",
       "    .dataframe thead th {\n",
       "        text-align: right;\n",
       "    }\n",
       "</style>\n",
       "<table border=\"1\" class=\"dataframe\">\n",
       "  <thead>\n",
       "    <tr style=\"text-align: right;\">\n",
       "      <th></th>\n",
       "      <th>Obs</th>\n",
       "      <th>C</th>\n",
       "      <th>S</th>\n",
       "      <th>W</th>\n",
       "      <th>Wt</th>\n",
       "      <th>Sa</th>\n",
       "      <th>pred</th>\n",
       "      <th>lindpred</th>\n",
       "    </tr>\n",
       "  </thead>\n",
       "  <tbody>\n",
       "    <tr>\n",
       "      <th>0</th>\n",
       "      <td>1</td>\n",
       "      <td>2</td>\n",
       "      <td>3</td>\n",
       "      <td>28.3</td>\n",
       "      <td>3.05</td>\n",
       "      <td>8</td>\n",
       "      <td>3.810341</td>\n",
       "      <td>1.337719</td>\n",
       "    </tr>\n",
       "    <tr>\n",
       "      <th>1</th>\n",
       "      <td>2</td>\n",
       "      <td>3</td>\n",
       "      <td>3</td>\n",
       "      <td>26.0</td>\n",
       "      <td>2.60</td>\n",
       "      <td>4</td>\n",
       "      <td>2.612781</td>\n",
       "      <td>0.960415</td>\n",
       "    </tr>\n",
       "    <tr>\n",
       "      <th>2</th>\n",
       "      <td>3</td>\n",
       "      <td>3</td>\n",
       "      <td>3</td>\n",
       "      <td>25.6</td>\n",
       "      <td>2.15</td>\n",
       "      <td>0</td>\n",
       "      <td>2.446839</td>\n",
       "      <td>0.894797</td>\n",
       "    </tr>\n",
       "    <tr>\n",
       "      <th>3</th>\n",
       "      <td>4</td>\n",
       "      <td>4</td>\n",
       "      <td>2</td>\n",
       "      <td>21.0</td>\n",
       "      <td>1.85</td>\n",
       "      <td>0</td>\n",
       "      <td>1.150492</td>\n",
       "      <td>0.140190</td>\n",
       "    </tr>\n",
       "    <tr>\n",
       "      <th>4</th>\n",
       "      <td>5</td>\n",
       "      <td>2</td>\n",
       "      <td>3</td>\n",
       "      <td>29.0</td>\n",
       "      <td>3.00</td>\n",
       "      <td>1</td>\n",
       "      <td>4.274001</td>\n",
       "      <td>1.452550</td>\n",
       "    </tr>\n",
       "    <tr>\n",
       "      <th>...</th>\n",
       "      <td>...</td>\n",
       "      <td>...</td>\n",
       "      <td>...</td>\n",
       "      <td>...</td>\n",
       "      <td>...</td>\n",
       "      <td>...</td>\n",
       "      <td>...</td>\n",
       "      <td>...</td>\n",
       "    </tr>\n",
       "    <tr>\n",
       "      <th>168</th>\n",
       "      <td>169</td>\n",
       "      <td>2</td>\n",
       "      <td>3</td>\n",
       "      <td>28.3</td>\n",
       "      <td>3.20</td>\n",
       "      <td>0</td>\n",
       "      <td>3.810341</td>\n",
       "      <td>1.337719</td>\n",
       "    </tr>\n",
       "    <tr>\n",
       "      <th>169</th>\n",
       "      <td>170</td>\n",
       "      <td>2</td>\n",
       "      <td>3</td>\n",
       "      <td>26.5</td>\n",
       "      <td>2.35</td>\n",
       "      <td>4</td>\n",
       "      <td>2.836122</td>\n",
       "      <td>1.042438</td>\n",
       "    </tr>\n",
       "    <tr>\n",
       "      <th>170</th>\n",
       "      <td>171</td>\n",
       "      <td>2</td>\n",
       "      <td>3</td>\n",
       "      <td>26.5</td>\n",
       "      <td>2.75</td>\n",
       "      <td>7</td>\n",
       "      <td>2.836122</td>\n",
       "      <td>1.042438</td>\n",
       "    </tr>\n",
       "    <tr>\n",
       "      <th>171</th>\n",
       "      <td>172</td>\n",
       "      <td>3</td>\n",
       "      <td>3</td>\n",
       "      <td>26.1</td>\n",
       "      <td>2.75</td>\n",
       "      <td>3</td>\n",
       "      <td>2.655995</td>\n",
       "      <td>0.976820</td>\n",
       "    </tr>\n",
       "    <tr>\n",
       "      <th>172</th>\n",
       "      <td>173</td>\n",
       "      <td>2</td>\n",
       "      <td>2</td>\n",
       "      <td>24.5</td>\n",
       "      <td>2.00</td>\n",
       "      <td>0</td>\n",
       "      <td>2.042853</td>\n",
       "      <td>0.714347</td>\n",
       "    </tr>\n",
       "  </tbody>\n",
       "</table>\n",
       "<p>173 rows × 8 columns</p>\n",
       "</div>"
      ],
      "text/plain": [
       "     Obs  C  S     W    Wt  Sa      pred  lindpred\n",
       "0      1  2  3  28.3  3.05   8  3.810341  1.337719\n",
       "1      2  3  3  26.0  2.60   4  2.612781  0.960415\n",
       "2      3  3  3  25.6  2.15   0  2.446839  0.894797\n",
       "3      4  4  2  21.0  1.85   0  1.150492  0.140190\n",
       "4      5  2  3  29.0  3.00   1  4.274001  1.452550\n",
       "..   ... .. ..   ...   ...  ..       ...       ...\n",
       "168  169  2  3  28.3  3.20   0  3.810341  1.337719\n",
       "169  170  2  3  26.5  2.35   4  2.836122  1.042438\n",
       "170  171  2  3  26.5  2.75   7  2.836122  1.042438\n",
       "171  172  3  3  26.1  2.75   3  2.655995  0.976820\n",
       "172  173  2  2  24.5  2.00   0  2.042853  0.714347\n",
       "\n",
       "[173 rows x 8 columns]"
      ]
     },
     "execution_count": 6,
     "metadata": {},
     "output_type": "execute_result"
    }
   ],
   "source": [
    "df"
   ]
  },
  {
   "cell_type": "code",
   "execution_count": 7,
   "metadata": {},
   "outputs": [
    {
     "data": {
      "image/png": "[encoded data removed]",
      "text/plain": [
       "<Figure size 720x432 with 1 Axes>"
      ]
     },
     "metadata": {
      "needs_background": "light"
     },
     "output_type": "display_data"
    }
   ],
   "source": [
    "aux = df.copy(deep=True).sort_values('pred').reset_index(drop=True)\n",
    "f, ax = plt.subplots(1,1, figsize=(10, 6))\n",
    "ax.scatter(df.W, df.Sa)\n",
    "ax.plot(aux.W, aux.pred, color='red', label='fitted values')\n",
    "ax.set_xlabel('W')\n",
    "ax.set_ylabel('Sa')\n",
    "ax.legend()\n",
    "plt.show()"
   ]
  },
  {
   "cell_type": "markdown",
   "metadata": {},
   "source": [
    "In the context of Logistic regression (same applies to Poisson): https://online.stat.psu.edu/stat504/node/162/\n",
    "\n",
    "\"*When a logistic model fitted to n binomial proportions is satisfactory, the residual deviance has an approximate χ2 distribution with (n – p) degrees of freedom, where p is the number of unknown parameters in the fitted model. Since the expected value of a χ2 distribution is equal to its degree of freedom, it follows that the residual deviance for a well-fitting model should be approximately equal to its degrees of freedom. Equivalently, we may say that the mean deviance (deviance/df) should be close to one. Similarly, if the variance of the data is greater than that under under binomial sampling, the residual mean deviance is likely to be greater than 1.*\"\n",
    "\n",
    "The deviance is the sum of squared **deviance** residuals. The latter, in turn, are defined as (see https://bookdown.org/roback/bookdown-bysh/ch-poissonreg.html )\n",
    "\n",
    "$\\text{sign}(Y_i - \\hat{\\lambda}_i)\\sqrt{2\\left[Y_i\\log\\left(\\frac{Y_i}{\\hat{\\lambda}_i}\\right) - (Y_i - \\hat{\\lambda}_i)\\right]}$"
   ]
  },
  {
   "cell_type": "code",
   "execution_count": 8,
   "metadata": {},
   "outputs": [
    {
     "name": "stdout",
     "output_type": "stream",
     "text": [
      "567.8785724519456\n",
      "567.8785724519457\n",
      "567.8785724519457\n"
     ]
    },
    {
     "name": "stderr",
     "output_type": "stream",
     "text": [
      "/home/seb/py36/lib/python3.6/site-packages/pandas/core/series.py:679: RuntimeWarning: divide by zero encountered in log\n",
      "  result = getattr(ufunc, method)(*inputs, **kwargs)\n"
     ]
    }
   ],
   "source": [
    "logdiff_y_yhat = np.log(endog_var / df.pred).values\n",
    "logdiff_y_yhat[logdiff_y_yhat==-np.inf] = -99999\n",
    "\n",
    "deviance_resid = np.sign(endog_var - df.pred) * np.sqrt(2 * (endog_var * logdiff_y_yhat - (endog_var - df.pred) ))\n",
    "\n",
    "print(m.deviance)\n",
    "print(np.sum((m.resid_deviance)**2))\n",
    "print(np.sum((deviance_resid)**2))"
   ]
  },
  {
   "cell_type": "code",
   "execution_count": 9,
   "metadata": {},
   "outputs": [
    {
     "data": {
      "text/plain": [
       "3.3209273242803836"
      ]
     },
     "execution_count": 9,
     "metadata": {},
     "output_type": "execute_result"
    }
   ],
   "source": [
    "m.deviance / m.df_resid"
   ]
  },
  {
   "cell_type": "markdown",
   "metadata": {},
   "source": [
    "In contrast, the Pearson residual is defined as\n",
    "\n",
    "$\\frac{Y_i - \\hat{\\lambda}_i}{\\sqrt{\\hat{\\lambda}_i}}$"
   ]
  },
  {
   "cell_type": "code",
   "execution_count": 10,
   "metadata": {},
   "outputs": [
    {
     "name": "stdout",
     "output_type": "stream",
     "text": [
      "544.1570112030288\n",
      "544.1570112030288\n",
      "544.1570112030288\n"
     ]
    }
   ],
   "source": [
    "pears_resid = (endog_var - df.pred) / np.sqrt(df.pred)\n",
    "print(m.pearson_chi2)\n",
    "print(np.sum((m.resid_pearson)**2))\n",
    "print(np.sum(pears_resid**2))"
   ]
  },
  {
   "cell_type": "markdown",
   "metadata": {},
   "source": [
    "## Accounting for overdispersion"
   ]
  },
  {
   "cell_type": "markdown",
   "metadata": {},
   "source": [
    "We have seen above that $\\frac{\\text{deviance}}{\\text{residual degrees of freedom}}$ = 3.321. I.e. there is overdispersion. To correct for this, the quasi-Poisson model includes a dispersion parameter that scales the variance: $\\mathbb{V}(\\mu) = \\phi\\mu$. The estimator of $\\phi$ is precisely the Pearson $\\chi^2$ scaled by the residual degrees of freedom. ( https://stats.stackexchange.com/questions/314948/quasi-likelihood-quasi-poisson ). To account for over-dispersion, we have to multiply each standard error by $\\sqrt{\\hat{\\phi}}$."
   ]
  },
  {
   "cell_type": "markdown",
   "metadata": {},
   "source": [
    "### \"old\" standard errors"
   ]
  },
  {
   "cell_type": "code",
   "execution_count": 11,
   "metadata": {},
   "outputs": [
    {
     "data": {
      "text/plain": [
       "array([0.54224156, 0.01996535])"
      ]
     },
     "execution_count": 11,
     "metadata": {},
     "output_type": "execute_result"
    }
   ],
   "source": [
    "np.sqrt(np.diag(m.cov_params()))"
   ]
  },
  {
   "cell_type": "markdown",
   "metadata": {},
   "source": [
    "### over-dispersion adjusted standard errors\n",
    "\n",
    "Note that these are exactly the same as those by the `R` `glm()` with `family=quasipoisson(link=log)` (see `_2_overdispersion.R` in this repository)."
   ]
  },
  {
   "cell_type": "code",
   "execution_count": 12,
   "metadata": {},
   "outputs": [
    {
     "name": "stdout",
     "output_type": "stream",
     "text": [
      "[0.96729036 0.03561565]\n"
     ]
    }
   ],
   "source": [
    "# print(np.sqrt(m.deviance / m.df_resid) * np.sqrt(np.diag(m.cov_params())))\n",
    "print(np.sqrt(m.pearson_chi2 / m.df_resid) * np.sqrt(np.diag(m.cov_params())))"
   ]
  },
  {
   "cell_type": "markdown",
   "metadata": {},
   "source": [
    "## Robust variance-covariance estimation"
   ]
  },
  {
   "cell_type": "markdown",
   "metadata": {},
   "source": [
    "A better way than simply assuming over-dispersion is to estimate a robust covariance matrix. The discussion here is worth reading: https://github.com/statsmodels/statsmodels/issues/4942. For the different robust covariance matrices, see here: https://www.statsmodels.org/dev/generated/statsmodels.regression.linear_model.RegressionResults.html#statsmodels.regression.linear_model.RegressionResults (scroll to bottom). Note that the robust standard errors that we get here are slightly **smaller** than the ones we get from the quasi-poisson model above. "
   ]
  },
  {
   "cell_type": "code",
   "execution_count": 13,
   "metadata": {},
   "outputs": [],
   "source": [
    "m = sm.GLM(endog = endog_var,\n",
    "           exog = exog_vars,\n",
    "           family = sm.families.Poisson()).fit(cov_type='HC0')"
   ]
  },
  {
   "cell_type": "code",
   "execution_count": 14,
   "metadata": {},
   "outputs": [
    {
     "data": {
      "text/html": [
       "<table class=\"simpletable\">\n",
       "<caption>Generalized Linear Model Regression Results</caption>\n",
       "<tr>\n",
       "  <th>Dep. Variable:</th>           <td>y</td>        <th>  No. Observations:  </th>  <td>   173</td> \n",
       "</tr>\n",
       "<tr>\n",
       "  <th>Model:</th>                  <td>GLM</td>       <th>  Df Residuals:      </th>  <td>   171</td> \n",
       "</tr>\n",
       "<tr>\n",
       "  <th>Model Family:</th>         <td>Poisson</td>     <th>  Df Model:          </th>  <td>     1</td> \n",
       "</tr>\n",
       "<tr>\n",
       "  <th>Link Function:</th>          <td>log</td>       <th>  Scale:             </th> <td>  1.0000</td>\n",
       "</tr>\n",
       "<tr>\n",
       "  <th>Method:</th>                <td>IRLS</td>       <th>  Log-Likelihood:    </th> <td> -461.59</td>\n",
       "</tr>\n",
       "<tr>\n",
       "  <th>Date:</th>            <td>Sun, 12 Apr 2020</td> <th>  Deviance:          </th> <td>  567.88</td>\n",
       "</tr>\n",
       "<tr>\n",
       "  <th>Time:</th>                <td>12:11:59</td>     <th>  Pearson chi2:      </th>  <td>  544.</td> \n",
       "</tr>\n",
       "<tr>\n",
       "  <th>No. Iterations:</th>          <td>5</td>        <th>                     </th>     <td> </td>   \n",
       "</tr>\n",
       "<tr>\n",
       "  <th>Covariance Type:</th>        <td>HC0</td>       <th>                     </th>     <td> </td>   \n",
       "</tr>\n",
       "</table>\n",
       "<table class=\"simpletable\">\n",
       "<tr>\n",
       "    <td></td>       <th>coef</th>     <th>std err</th>      <th>z</th>      <th>P>|z|</th>  <th>[0.025</th>    <th>0.975]</th>  \n",
       "</tr>\n",
       "<tr>\n",
       "  <th>const</th> <td>   -3.3048</td> <td>    0.840</td> <td>   -3.933</td> <td> 0.000</td> <td>   -4.952</td> <td>   -1.658</td>\n",
       "</tr>\n",
       "<tr>\n",
       "  <th>x1</th>    <td>    0.1640</td> <td>    0.030</td> <td>    5.381</td> <td> 0.000</td> <td>    0.104</td> <td>    0.224</td>\n",
       "</tr>\n",
       "</table>"
      ],
      "text/plain": [
       "<class 'statsmodels.iolib.summary.Summary'>\n",
       "\"\"\"\n",
       "                 Generalized Linear Model Regression Results                  \n",
       "==============================================================================\n",
       "Dep. Variable:                      y   No. Observations:                  173\n",
       "Model:                            GLM   Df Residuals:                      171\n",
       "Model Family:                 Poisson   Df Model:                            1\n",
       "Link Function:                    log   Scale:                          1.0000\n",
       "Method:                          IRLS   Log-Likelihood:                -461.59\n",
       "Date:                Sun, 12 Apr 2020   Deviance:                       567.88\n",
       "Time:                        12:11:59   Pearson chi2:                     544.\n",
       "No. Iterations:                     5                                         \n",
       "Covariance Type:                  HC0                                         \n",
       "==============================================================================\n",
       "                 coef    std err          z      P>|z|      [0.025      0.975]\n",
       "------------------------------------------------------------------------------\n",
       "const         -3.3048      0.840     -3.933      0.000      -4.952      -1.658\n",
       "x1             0.1640      0.030      5.381      0.000       0.104       0.224\n",
       "==============================================================================\n",
       "\"\"\""
      ]
     },
     "execution_count": 14,
     "metadata": {},
     "output_type": "execute_result"
    }
   ],
   "source": [
    "m.summary()"
   ]
  }
 ],
 "metadata": {
  "kernelspec": {
   "display_name": "Python 3",
   "language": "python",
   "name": "python3"
  },
  "language_info": {
   "codemirror_mode": {
    "name": "ipython",
    "version": 3
   },
   "file_extension": ".py",
   "mimetype": "text/x-python",
   "name": "python",
   "nbconvert_exporter": "python",
   "pygments_lexer": "ipython3",
   "version": "3.6.9"
  }
 },
 "nbformat": 4,
 "nbformat_minor": 4
}
