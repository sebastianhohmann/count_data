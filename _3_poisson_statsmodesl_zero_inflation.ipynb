{
 "cells": [
  {
   "cell_type": "markdown",
   "metadata": {},
   "source": [
    "# Zero-inflated Poisson regression and some examples with `statsmodels`"
   ]
  },
  {
   "cell_type": "markdown",
   "metadata": {},
   "source": [
    "## 1) Theory"
   ]
  },
  {
   "cell_type": "markdown",
   "metadata": {},
   "source": [
    "The zero-inflated poisson model is a natural choice to model phenomena that are counts but that are characterized by an over-abundance of zeros compared what one would expect from a poisson random-variable. In general one can model this situation is with a mixture between two distributions. In particular (see Cameron and Trivedi (2013), section 4.6), given a base count density $f_2(y_i)$"
   ]
  },
  {
   "cell_type": "markdown",
   "metadata": {},
   "source": [
    "$$\n",
    "\\begin{align}\n",
    "\\mathbb{P}[y_i=j] = \\begin{cases} \\pi_i + (1-\\pi_i)f_2(0) \\;\\; \\text{if} \\; j = 0, \\\\\n",
    "(1-\\pi_i)f_2(j) \\;\\;\\;\\;\\;\\;\\;\\;\\; \\text{if} \\; j > 0\n",
    "\\end{cases}\n",
    "\\end{align}\n",
    "$$"
   ]
  },
  {
   "cell_type": "markdown",
   "metadata": {},
   "source": [
    "Hence we add a proportion of zeros $\\pi_i$ to the baseline distribution and the probabilities from the baseline model are decreased by the proportion $(1-\\pi_i)$ to make the probabilities add to one. One can either set $\\pi_i$ to a constant (just estimate an intercept) or let it depend on the $\\mathbf{x}_i$ e.g. via a logistic regression model."
   ]
  },
  {
   "cell_type": "markdown",
   "metadata": {},
   "source": [
    "The model is estimated by maximum likelihood. Define a censoring indicator"
   ]
  },
  {
   "cell_type": "markdown",
   "metadata": {},
   "source": [
    "$$\n",
    "\\begin{align}\n",
    "d_i = \\begin{cases}1 \\;\\;\\;\\; \\text{if } y_i > 0, \\\\\n",
    "0 \\;\\;\\;\\; \\text{if } y_i = 0, \n",
    "\\end{cases}\n",
    "\\end{align}\n",
    "$$"
   ]
  },
  {
   "cell_type": "markdown",
   "metadata": {},
   "source": [
    "Note that $d_i= 0$ with probability $\\pi_i$ and $d_i=1$ with probability $1-\\pi_i$. Hence the density becomes"
   ]
  },
  {
   "cell_type": "markdown",
   "metadata": {},
   "source": [
    "$$\n",
    "f(y_i) = [\\pi_i + (1-\\pi_i)f_2(0)]^{1-d_i}\\times[(1-\\pi)f_2(y_i)]^{d_i}\n",
    "$$"
   ]
  },
  {
   "cell_type": "markdown",
   "metadata": {},
   "source": [
    "If we let the zero-inflation component $\\pi_i$ and the base count density $f_2(y_i)$ be functions of the parameter vector $\\mathbf{x}_i$, the likelihood can be written as"
   ]
  },
  {
   "cell_type": "markdown",
   "metadata": {},
   "source": [
    "$$\n",
    "\\begin{align}\n",
    "L(\\mathbf{\\theta}_1,\\mathbf{\\theta}_2|\\mathbf{X},\\mathbf{Y}) &=  \\prod_{i=1}^m[\\pi_i(\\mathbf{x}_i, \\mathbf{\\theta}_1) + (1-\\pi_i(\\mathbf{x}_i, \\mathbf{\\theta}_1))f_2(0|\\mathbf{x}_i,\\mathbf{\\theta}_2)]^{1-d_i}\\times[(1-\\pi(\\mathbf{x}_i, \\mathbf{\\theta}_1))f_2(y_i|\\mathbf{x}_i,\\mathbf{\\theta}_2)]^{d_i}\n",
    "\\end{align}\n",
    "$$"
   ]
  },
  {
   "cell_type": "markdown",
   "metadata": {},
   "source": [
    "One particular version of such a model is to make $f_2(y_i)$ poisson and model $\\pi_i$ with a logit. This is the model considered by Lambert (1992). In particular"
   ]
  },
  {
   "cell_type": "markdown",
   "metadata": {},
   "source": [
    "$$\n",
    "\\begin{align}\n",
    "\\mathbf{\\pi}_i(\\mathbf{x}_i,\\mathbf{\\theta}_1) &= \\frac{\\mathrm{e}^{\\mathbf{\\theta_1}'\\mathbf{x}_i}}{1+\\mathrm{e}^{\\mathbf{\\theta_1}'\\mathbf{x}_i}} \\\\\n",
    "f_2(y_i|\\mathbf{x}_i, \\mathbf{\\theta}_2) &= \\frac{\\mathrm{e}^{y_i\\mathbf{\\theta}_2'\\mathbf{x}_i}\\mathrm{e}^{-\\mathrm{e}^{\\mathbf{\\theta}_2'\\mathbf{x}_i}}}{y_i!} \n",
    "\\end{align}\n",
    "$$"
   ]
  },
  {
   "cell_type": "markdown",
   "metadata": {},
   "source": [
    "For details on gradient and Hessian of the likelihood, see https://ncss-wpengine.netdna-ssl.com/wp-content/themes/ncss/pdf/Procedures/NCSS/Zero-Inflated_Poisson_Regression.pdf"
   ]
  },
  {
   "cell_type": "markdown",
   "metadata": {},
   "source": [
    "Cameron and Trivedi (2013) suggest that economic data still suffer from over-dispersion and therefore recommend to use the Negative Binomial model for the base count density. The problem is that this more heavily parameterized model is more difficult to estimate. Hence the convergence of the ML estimation may be slow"
   ]
  },
  {
   "cell_type": "markdown",
   "metadata": {},
   "source": [
    "## 2) Examples"
   ]
  },
  {
   "cell_type": "markdown",
   "metadata": {},
   "source": [
    "### 2.1) Example one: weekend drinking\n",
    "\n",
    "The is a nice example since it gives an explicit motivation for using a mixture. Ask a group of students: \"How many drinks did you have this weekend?\" The group may contain drinkers and non-drinkers. The non-drinkers never drink (so they are part of the $\\pi_i$), but even some of the drinkers may not have had a drink this weekend, so they may also report a zero (their poisson RV had a draw of zero). "
   ]
  },
  {
   "cell_type": "markdown",
   "metadata": {},
   "source": [
    "https://bookdown.org/roback/bookdown-bysh/ch-poissonreg.html#cs:drinking"
   ]
  },
  {
   "cell_type": "code",
   "execution_count": 1,
   "metadata": {},
   "outputs": [
    {
     "name": "stderr",
     "output_type": "stream",
     "text": [
      "/home/seb/py36/lib/python3.6/site-packages/statsmodels/tools/_testing.py:19: FutureWarning: pandas.util.testing is deprecated. Use the functions in the public API at pandas.testing instead.\n",
      "  import pandas.util.testing as tm\n"
     ]
    }
   ],
   "source": [
    "import numpy as np\n",
    "import pandas as pd\n",
    "import matplotlib.pyplot as plt\n",
    "import matplotlib as mpl\n",
    "plt.style.use('seaborn')\n",
    "mpl.rcParams['font.family'] = 'serif'\n",
    "%matplotlib inline\n",
    "\n",
    "import statsmodels.api as sm\n",
    "from statsmodels.discrete.count_model import ZeroInflatedPoisson as ZIP"
   ]
  },
  {
   "cell_type": "code",
   "execution_count": 2,
   "metadata": {},
   "outputs": [],
   "source": [
    "df = pd.read_csv('./weekendDrinks.csv')"
   ]
  },
  {
   "cell_type": "code",
   "execution_count": 3,
   "metadata": {},
   "outputs": [
    {
     "data": {
      "image/png": "[encoded data removed]",
      "text/plain": [
       "<Figure size 1800x504 with 2 Axes>"
      ]
     },
     "metadata": {
      "needs_background": "light"
     },
     "output_type": "display_data"
    }
   ],
   "source": [
    "f, ax = plt.subplots(1,2, figsize=(25,7))\n",
    "ax[0].hist(df.drinks, bins=15, edgecolor=\"k\", linewidth=1.5)\n",
    "ax[0].set_title('observed')\n",
    "\n",
    "lamb = df.drinks.mean()\n",
    "theoretical = np.array([(lamb**k)*np.exp(-lamb) / np.math.factorial(k) for k in range(df.drinks.max()+1)])\n",
    "\n",
    "ax[1].bar(np.arange(0,df.drinks.max()+1), theoretical)\n",
    "ax[1].set_title('poisson model')\n",
    "\n",
    "plt.show()"
   ]
  },
  {
   "cell_type": "markdown",
   "metadata": {},
   "source": [
    "First, we can fit a simple Poisson model"
   ]
  },
  {
   "cell_type": "code",
   "execution_count": 4,
   "metadata": {},
   "outputs": [],
   "source": [
    "df['off_campus'] = (df.dorm == 'off campus')\n",
    "df['male'] = (df.sex == 'm')"
   ]
  },
  {
   "cell_type": "code",
   "execution_count": 5,
   "metadata": {},
   "outputs": [],
   "source": [
    "endog_var = df.drinks.values\n",
    "exog_vars = np.concatenate([np.ones(df.shape[0]).reshape(-1,1),\n",
    "                            df.off_campus.values.reshape(-1,1),\n",
    "                            df.male.values.reshape(-1,1)],\n",
    "                           axis=1)\n",
    "m = sm.GLM(endog = endog_var,\n",
    "           exog = exog_vars,\n",
    "           family = sm.families.Poisson()).fit()"
   ]
  },
  {
   "cell_type": "code",
   "execution_count": 6,
   "metadata": {},
   "outputs": [
    {
     "data": {
      "text/html": [
       "<table class=\"simpletable\">\n",
       "<caption>Generalized Linear Model Regression Results</caption>\n",
       "<tr>\n",
       "  <th>Dep. Variable:</th>           <td>y</td>        <th>  No. Observations:  </th>  <td>    77</td> \n",
       "</tr>\n",
       "<tr>\n",
       "  <th>Model:</th>                  <td>GLM</td>       <th>  Df Residuals:      </th>  <td>    74</td> \n",
       "</tr>\n",
       "<tr>\n",
       "  <th>Model Family:</th>         <td>Poisson</td>     <th>  Df Model:          </th>  <td>     2</td> \n",
       "</tr>\n",
       "<tr>\n",
       "  <th>Link Function:</th>          <td>log</td>       <th>  Scale:             </th> <td>  1.0000</td>\n",
       "</tr>\n",
       "<tr>\n",
       "  <th>Method:</th>                <td>IRLS</td>       <th>  Log-Likelihood:    </th> <td> -175.55</td>\n",
       "</tr>\n",
       "<tr>\n",
       "  <th>Date:</th>            <td>Fri, 17 Apr 2020</td> <th>  Deviance:          </th> <td>  230.54</td>\n",
       "</tr>\n",
       "<tr>\n",
       "  <th>Time:</th>                <td>00:26:38</td>     <th>  Pearson chi2:      </th>  <td>  254.</td> \n",
       "</tr>\n",
       "<tr>\n",
       "  <th>No. Iterations:</th>          <td>5</td>        <th>                     </th>     <td> </td>   \n",
       "</tr>\n",
       "<tr>\n",
       "  <th>Covariance Type:</th>     <td>nonrobust</td>    <th>                     </th>     <td> </td>   \n",
       "</tr>\n",
       "</table>\n",
       "<table class=\"simpletable\">\n",
       "<tr>\n",
       "    <td></td>       <th>coef</th>     <th>std err</th>      <th>z</th>      <th>P>|z|</th>  <th>[0.025</th>    <th>0.975]</th>  \n",
       "</tr>\n",
       "<tr>\n",
       "  <th>const</th> <td>    0.1293</td> <td>    0.124</td> <td>    1.041</td> <td> 0.298</td> <td>   -0.114</td> <td>    0.373</td>\n",
       "</tr>\n",
       "<tr>\n",
       "  <th>x1</th>    <td>    0.8976</td> <td>    0.201</td> <td>    4.470</td> <td> 0.000</td> <td>    0.504</td> <td>    1.291</td>\n",
       "</tr>\n",
       "<tr>\n",
       "  <th>x2</th>    <td>    1.1154</td> <td>    0.161</td> <td>    6.925</td> <td> 0.000</td> <td>    0.800</td> <td>    1.431</td>\n",
       "</tr>\n",
       "</table>"
      ],
      "text/plain": [
       "<class 'statsmodels.iolib.summary.Summary'>\n",
       "\"\"\"\n",
       "                 Generalized Linear Model Regression Results                  \n",
       "==============================================================================\n",
       "Dep. Variable:                      y   No. Observations:                   77\n",
       "Model:                            GLM   Df Residuals:                       74\n",
       "Model Family:                 Poisson   Df Model:                            2\n",
       "Link Function:                    log   Scale:                          1.0000\n",
       "Method:                          IRLS   Log-Likelihood:                -175.55\n",
       "Date:                Fri, 17 Apr 2020   Deviance:                       230.54\n",
       "Time:                        00:26:38   Pearson chi2:                     254.\n",
       "No. Iterations:                     5                                         \n",
       "Covariance Type:            nonrobust                                         \n",
       "==============================================================================\n",
       "                 coef    std err          z      P>|z|      [0.025      0.975]\n",
       "------------------------------------------------------------------------------\n",
       "const          0.1293      0.124      1.041      0.298      -0.114       0.373\n",
       "x1             0.8976      0.201      4.470      0.000       0.504       1.291\n",
       "x2             1.1154      0.161      6.925      0.000       0.800       1.431\n",
       "==============================================================================\n",
       "\"\"\""
      ]
     },
     "execution_count": 6,
     "metadata": {},
     "output_type": "execute_result"
    }
   ],
   "source": [
    "m.summary()"
   ]
  },
  {
   "cell_type": "code",
   "execution_count": 7,
   "metadata": {},
   "outputs": [
    {
     "name": "stdout",
     "output_type": "stream",
     "text": [
      "230.5439891062946\n"
     ]
    }
   ],
   "source": [
    "print(m.deviance)"
   ]
  },
  {
   "cell_type": "markdown",
   "metadata": {},
   "source": [
    "Looking at the code here https://github.com/proback/BYSH/blob/master/04-Poisson-Regression.Rmd, the `first_year` variable is generated as follows:"
   ]
  },
  {
   "cell_type": "code",
   "execution_count": 8,
   "metadata": {},
   "outputs": [],
   "source": [
    "df['first_year'] = df.dorm.isin(['kildahl', 'mohn', 'kittlesby'])"
   ]
  },
  {
   "cell_type": "code",
   "execution_count": 9,
   "metadata": {},
   "outputs": [
    {
     "name": "stdout",
     "output_type": "stream",
     "text": [
      "Optimization terminated successfully.\n",
      "         Current function value: 1.828103\n",
      "         Iterations: 19\n",
      "         Function evaluations: 20\n",
      "         Gradient evaluations: 20\n"
     ]
    },
    {
     "name": "stderr",
     "output_type": "stream",
     "text": [
      "/home/seb/py36/lib/python3.6/site-packages/statsmodels/base/model.py:512: ConvergenceWarning: Maximum Likelihood optimization failed to converge. Check mle_retvals\n",
      "  \"Check mle_retvals\", ConvergenceWarning)\n"
     ]
    }
   ],
   "source": [
    "endog_var = df.drinks.values\n",
    "exog_vars = np.concatenate([np.ones(df.shape[0]).reshape(-1,1),\n",
    "                            df.off_campus.values.reshape(-1,1),\n",
    "                            df.male.values.reshape(-1,1)],\n",
    "                           axis=1)\n",
    "exog_vars_infl = np.concatenate([np.ones(df.shape[0]).reshape(-1,1),\n",
    "                                 df.first_year.values.reshape(-1,1)],\n",
    "                                axis=1)\n",
    "m = ZIP(endog = endog_var,\n",
    "        exog = exog_vars,\n",
    "        exog_infl=exog_vars_infl,\n",
    "        inflation='logit').fit()"
   ]
  },
  {
   "cell_type": "code",
   "execution_count": 10,
   "metadata": {},
   "outputs": [
    {
     "data": {
      "text/html": [
       "<table class=\"simpletable\">\n",
       "<caption>ZeroInflatedPoisson Regression Results</caption>\n",
       "<tr>\n",
       "  <th>Dep. Variable:</th>            <td>y</td>          <th>  No. Observations:  </th>  <td>    77</td>  \n",
       "</tr>\n",
       "<tr>\n",
       "  <th>Model:</th>           <td>ZeroInflatedPoisson</td> <th>  Df Residuals:      </th>  <td>    74</td>  \n",
       "</tr>\n",
       "<tr>\n",
       "  <th>Method:</th>                  <td>MLE</td>         <th>  Df Model:          </th>  <td>     2</td>  \n",
       "</tr>\n",
       "<tr>\n",
       "  <th>Date:</th>             <td>Fri, 17 Apr 2020</td>   <th>  Pseudo R-squ.:     </th>  <td>0.1315</td>  \n",
       "</tr>\n",
       "<tr>\n",
       "  <th>Time:</th>                 <td>00:26:38</td>       <th>  Log-Likelihood:    </th> <td> -140.76</td> \n",
       "</tr>\n",
       "<tr>\n",
       "  <th>converged:</th>              <td>True</td>         <th>  LL-Null:           </th> <td> -162.08</td> \n",
       "</tr>\n",
       "<tr>\n",
       "  <th>Covariance Type:</th>      <td>nonrobust</td>      <th>  LLR p-value:       </th> <td>5.540e-10</td>\n",
       "</tr>\n",
       "</table>\n",
       "<table class=\"simpletable\">\n",
       "<tr>\n",
       "        <td></td>           <th>coef</th>     <th>std err</th>      <th>z</th>      <th>P>|z|</th>  <th>[0.025</th>    <th>0.975]</th>  \n",
       "</tr>\n",
       "<tr>\n",
       "  <th>inflate_const</th> <td>   -0.6036</td> <td>    0.303</td> <td>   -1.992</td> <td> 0.046</td> <td>   -1.198</td> <td>   -0.010</td>\n",
       "</tr>\n",
       "<tr>\n",
       "  <th>inflate_x1</th>    <td>    1.1364</td> <td>    0.609</td> <td>    1.865</td> <td> 0.062</td> <td>   -0.058</td> <td>    2.330</td>\n",
       "</tr>\n",
       "<tr>\n",
       "  <th>const</th>         <td>    0.7543</td> <td>    0.139</td> <td>    5.408</td> <td> 0.000</td> <td>    0.481</td> <td>    1.028</td>\n",
       "</tr>\n",
       "<tr>\n",
       "  <th>x1</th>            <td>    0.4159</td> <td>    0.205</td> <td>    2.026</td> <td> 0.043</td> <td>    0.014</td> <td>    0.818</td>\n",
       "</tr>\n",
       "<tr>\n",
       "  <th>x2</th>            <td>    1.0209</td> <td>    0.172</td> <td>    5.926</td> <td> 0.000</td> <td>    0.683</td> <td>    1.359</td>\n",
       "</tr>\n",
       "</table>"
      ],
      "text/plain": [
       "<class 'statsmodels.iolib.summary.Summary'>\n",
       "\"\"\"\n",
       "                     ZeroInflatedPoisson Regression Results                    \n",
       "===============================================================================\n",
       "Dep. Variable:                       y   No. Observations:                   77\n",
       "Model:             ZeroInflatedPoisson   Df Residuals:                       74\n",
       "Method:                            MLE   Df Model:                            2\n",
       "Date:                 Fri, 17 Apr 2020   Pseudo R-squ.:                  0.1315\n",
       "Time:                         00:26:38   Log-Likelihood:                -140.76\n",
       "converged:                        True   LL-Null:                       -162.08\n",
       "Covariance Type:             nonrobust   LLR p-value:                 5.540e-10\n",
       "=================================================================================\n",
       "                    coef    std err          z      P>|z|      [0.025      0.975]\n",
       "---------------------------------------------------------------------------------\n",
       "inflate_const    -0.6036      0.303     -1.992      0.046      -1.198      -0.010\n",
       "inflate_x1        1.1364      0.609      1.865      0.062      -0.058       2.330\n",
       "const             0.7543      0.139      5.408      0.000       0.481       1.028\n",
       "x1                0.4159      0.205      2.026      0.043       0.014       0.818\n",
       "x2                1.0209      0.172      5.926      0.000       0.683       1.359\n",
       "=================================================================================\n",
       "\"\"\""
      ]
     },
     "execution_count": 10,
     "metadata": {},
     "output_type": "execute_result"
    }
   ],
   "source": [
    "m.summary()"
   ]
  },
  {
   "cell_type": "code",
   "execution_count": 11,
   "metadata": {},
   "outputs": [],
   "source": [
    "yhat = m.predict(exog=exog_vars, exog_infl=exog_vars_infl)"
   ]
  },
  {
   "cell_type": "code",
   "execution_count": 12,
   "metadata": {},
   "outputs": [
    {
     "data": {
      "image/png": "[encoded data removed]",
      "text/plain": [
       "<Figure size 720x432 with 1 Axes>"
      ]
     },
     "metadata": {
      "needs_background": "light"
     },
     "output_type": "display_data"
    }
   ],
   "source": [
    "f, ax = plt.subplots(1,1,figsize=(10, 6))\n",
    "ax.scatter(yhat, df.drinks)\n",
    "ax.set_xlabel('prediction')\n",
    "ax.set_ylabel('truth')\n",
    "plt.show()"
   ]
  },
  {
   "cell_type": "markdown",
   "metadata": {},
   "source": [
    "### 2.2) Second example: fish caught in state park"
   ]
  },
  {
   "cell_type": "markdown",
   "metadata": {},
   "source": [
    "Example is taken from here: https://stats.idre.ucla.edu/r/dae/zip/"
   ]
  },
  {
   "cell_type": "code",
   "execution_count": 13,
   "metadata": {},
   "outputs": [],
   "source": [
    "df = pd.read_csv('https://stats.idre.ucla.edu/stat/data/fish.csv')"
   ]
  },
  {
   "cell_type": "code",
   "execution_count": 14,
   "metadata": {},
   "outputs": [
    {
     "data": {
      "text/html": [
       "<div>\n",
       "<style scoped>\n",
       "    .dataframe tbody tr th:only-of-type {\n",
       "        vertical-align: middle;\n",
       "    }\n",
       "\n",
       "    .dataframe tbody tr th {\n",
       "        vertical-align: top;\n",
       "    }\n",
       "\n",
       "    .dataframe thead th {\n",
       "        text-align: right;\n",
       "    }\n",
       "</style>\n",
       "<table border=\"1\" class=\"dataframe\">\n",
       "  <thead>\n",
       "    <tr style=\"text-align: right;\">\n",
       "      <th></th>\n",
       "      <th>nofish</th>\n",
       "      <th>livebait</th>\n",
       "      <th>camper</th>\n",
       "      <th>persons</th>\n",
       "      <th>child</th>\n",
       "      <th>xb</th>\n",
       "      <th>zg</th>\n",
       "      <th>count</th>\n",
       "    </tr>\n",
       "  </thead>\n",
       "  <tbody>\n",
       "    <tr>\n",
       "      <th>0</th>\n",
       "      <td>1</td>\n",
       "      <td>0</td>\n",
       "      <td>0</td>\n",
       "      <td>1</td>\n",
       "      <td>0</td>\n",
       "      <td>-0.896315</td>\n",
       "      <td>3.050405</td>\n",
       "      <td>0</td>\n",
       "    </tr>\n",
       "    <tr>\n",
       "      <th>1</th>\n",
       "      <td>0</td>\n",
       "      <td>1</td>\n",
       "      <td>1</td>\n",
       "      <td>1</td>\n",
       "      <td>0</td>\n",
       "      <td>-0.558345</td>\n",
       "      <td>1.746149</td>\n",
       "      <td>0</td>\n",
       "    </tr>\n",
       "    <tr>\n",
       "      <th>2</th>\n",
       "      <td>0</td>\n",
       "      <td>1</td>\n",
       "      <td>0</td>\n",
       "      <td>1</td>\n",
       "      <td>0</td>\n",
       "      <td>-0.401731</td>\n",
       "      <td>0.279939</td>\n",
       "      <td>0</td>\n",
       "    </tr>\n",
       "    <tr>\n",
       "      <th>3</th>\n",
       "      <td>0</td>\n",
       "      <td>1</td>\n",
       "      <td>1</td>\n",
       "      <td>2</td>\n",
       "      <td>1</td>\n",
       "      <td>-0.956298</td>\n",
       "      <td>-0.601526</td>\n",
       "      <td>0</td>\n",
       "    </tr>\n",
       "    <tr>\n",
       "      <th>4</th>\n",
       "      <td>0</td>\n",
       "      <td>1</td>\n",
       "      <td>0</td>\n",
       "      <td>1</td>\n",
       "      <td>0</td>\n",
       "      <td>0.436891</td>\n",
       "      <td>0.527709</td>\n",
       "      <td>1</td>\n",
       "    </tr>\n",
       "  </tbody>\n",
       "</table>\n",
       "</div>"
      ],
      "text/plain": [
       "   nofish  livebait  camper  persons  child        xb        zg  count\n",
       "0       1         0       0        1      0 -0.896315  3.050405      0\n",
       "1       0         1       1        1      0 -0.558345  1.746149      0\n",
       "2       0         1       0        1      0 -0.401731  0.279939      0\n",
       "3       0         1       1        2      1 -0.956298 -0.601526      0\n",
       "4       0         1       0        1      0  0.436891  0.527709      1"
      ]
     },
     "execution_count": 14,
     "metadata": {},
     "output_type": "execute_result"
    }
   ],
   "source": [
    "df.head()"
   ]
  },
  {
   "cell_type": "code",
   "execution_count": 15,
   "metadata": {},
   "outputs": [
    {
     "data": {
      "text/html": [
       "<div>\n",
       "<style scoped>\n",
       "    .dataframe tbody tr th:only-of-type {\n",
       "        vertical-align: middle;\n",
       "    }\n",
       "\n",
       "    .dataframe tbody tr th {\n",
       "        vertical-align: top;\n",
       "    }\n",
       "\n",
       "    .dataframe thead th {\n",
       "        text-align: right;\n",
       "    }\n",
       "</style>\n",
       "<table border=\"1\" class=\"dataframe\">\n",
       "  <thead>\n",
       "    <tr style=\"text-align: right;\">\n",
       "      <th></th>\n",
       "      <th>nofish</th>\n",
       "      <th>livebait</th>\n",
       "      <th>camper</th>\n",
       "      <th>persons</th>\n",
       "      <th>child</th>\n",
       "      <th>xb</th>\n",
       "      <th>zg</th>\n",
       "      <th>count</th>\n",
       "    </tr>\n",
       "  </thead>\n",
       "  <tbody>\n",
       "    <tr>\n",
       "      <th>count</th>\n",
       "      <td>250.000000</td>\n",
       "      <td>250.000000</td>\n",
       "      <td>250.000000</td>\n",
       "      <td>250.00000</td>\n",
       "      <td>250.000000</td>\n",
       "      <td>250.000000</td>\n",
       "      <td>250.000000</td>\n",
       "      <td>250.000000</td>\n",
       "    </tr>\n",
       "    <tr>\n",
       "      <th>mean</th>\n",
       "      <td>0.296000</td>\n",
       "      <td>0.864000</td>\n",
       "      <td>0.588000</td>\n",
       "      <td>2.52800</td>\n",
       "      <td>0.684000</td>\n",
       "      <td>0.973796</td>\n",
       "      <td>0.252323</td>\n",
       "      <td>3.296000</td>\n",
       "    </tr>\n",
       "    <tr>\n",
       "      <th>std</th>\n",
       "      <td>0.457407</td>\n",
       "      <td>0.343476</td>\n",
       "      <td>0.493182</td>\n",
       "      <td>1.11273</td>\n",
       "      <td>0.850315</td>\n",
       "      <td>1.440277</td>\n",
       "      <td>2.102391</td>\n",
       "      <td>11.635028</td>\n",
       "    </tr>\n",
       "    <tr>\n",
       "      <th>min</th>\n",
       "      <td>0.000000</td>\n",
       "      <td>0.000000</td>\n",
       "      <td>0.000000</td>\n",
       "      <td>1.00000</td>\n",
       "      <td>0.000000</td>\n",
       "      <td>-3.275050</td>\n",
       "      <td>-5.625944</td>\n",
       "      <td>0.000000</td>\n",
       "    </tr>\n",
       "    <tr>\n",
       "      <th>25%</th>\n",
       "      <td>0.000000</td>\n",
       "      <td>1.000000</td>\n",
       "      <td>0.000000</td>\n",
       "      <td>2.00000</td>\n",
       "      <td>0.000000</td>\n",
       "      <td>0.008267</td>\n",
       "      <td>-1.252724</td>\n",
       "      <td>0.000000</td>\n",
       "    </tr>\n",
       "    <tr>\n",
       "      <th>50%</th>\n",
       "      <td>0.000000</td>\n",
       "      <td>1.000000</td>\n",
       "      <td>1.000000</td>\n",
       "      <td>2.00000</td>\n",
       "      <td>0.000000</td>\n",
       "      <td>0.954550</td>\n",
       "      <td>0.605079</td>\n",
       "      <td>0.000000</td>\n",
       "    </tr>\n",
       "    <tr>\n",
       "      <th>75%</th>\n",
       "      <td>1.000000</td>\n",
       "      <td>1.000000</td>\n",
       "      <td>1.000000</td>\n",
       "      <td>4.00000</td>\n",
       "      <td>1.000000</td>\n",
       "      <td>1.963855</td>\n",
       "      <td>1.993237</td>\n",
       "      <td>2.000000</td>\n",
       "    </tr>\n",
       "    <tr>\n",
       "      <th>max</th>\n",
       "      <td>1.000000</td>\n",
       "      <td>1.000000</td>\n",
       "      <td>1.000000</td>\n",
       "      <td>4.00000</td>\n",
       "      <td>3.000000</td>\n",
       "      <td>5.352674</td>\n",
       "      <td>4.263185</td>\n",
       "      <td>149.000000</td>\n",
       "    </tr>\n",
       "  </tbody>\n",
       "</table>\n",
       "</div>"
      ],
      "text/plain": [
       "           nofish    livebait      camper    persons       child          xb  \\\n",
       "count  250.000000  250.000000  250.000000  250.00000  250.000000  250.000000   \n",
       "mean     0.296000    0.864000    0.588000    2.52800    0.684000    0.973796   \n",
       "std      0.457407    0.343476    0.493182    1.11273    0.850315    1.440277   \n",
       "min      0.000000    0.000000    0.000000    1.00000    0.000000   -3.275050   \n",
       "25%      0.000000    1.000000    0.000000    2.00000    0.000000    0.008267   \n",
       "50%      0.000000    1.000000    1.000000    2.00000    0.000000    0.954550   \n",
       "75%      1.000000    1.000000    1.000000    4.00000    1.000000    1.963855   \n",
       "max      1.000000    1.000000    1.000000    4.00000    3.000000    5.352674   \n",
       "\n",
       "               zg       count  \n",
       "count  250.000000  250.000000  \n",
       "mean     0.252323    3.296000  \n",
       "std      2.102391   11.635028  \n",
       "min     -5.625944    0.000000  \n",
       "25%     -1.252724    0.000000  \n",
       "50%      0.605079    0.000000  \n",
       "75%      1.993237    2.000000  \n",
       "max      4.263185  149.000000  "
      ]
     },
     "execution_count": 15,
     "metadata": {},
     "output_type": "execute_result"
    }
   ],
   "source": [
    "df.describe()"
   ]
  },
  {
   "cell_type": "code",
   "execution_count": 16,
   "metadata": {},
   "outputs": [
    {
     "data": {
      "image/png": "[encoded data removed]",
      "text/plain": [
       "<Figure size 720x432 with 1 Axes>"
      ]
     },
     "metadata": {
      "needs_background": "light"
     },
     "output_type": "display_data"
    }
   ],
   "source": [
    "f, ax = plt.subplots(1,1,figsize=(10, 6))\n",
    "\n",
    "ax.hist(df['count'], bins=20, edgecolor=\"k\", linewidth=1.2)\n",
    "ax.set_yscale('log')\n",
    "\n",
    "plt.show()"
   ]
  },
  {
   "cell_type": "code",
   "execution_count": 17,
   "metadata": {},
   "outputs": [
    {
     "name": "stdout",
     "output_type": "stream",
     "text": [
      "Optimization terminated successfully.\n",
      "         Current function value: 4.126434\n",
      "         Iterations: 16\n",
      "         Function evaluations: 18\n",
      "         Gradient evaluations: 18\n"
     ]
    },
    {
     "name": "stderr",
     "output_type": "stream",
     "text": [
      "/home/seb/py36/lib/python3.6/site-packages/statsmodels/base/model.py:512: ConvergenceWarning: Maximum Likelihood optimization failed to converge. Check mle_retvals\n",
      "  \"Check mle_retvals\", ConvergenceWarning)\n"
     ]
    }
   ],
   "source": [
    "endog_var = df['count'].values\n",
    "exog_vars = np.concatenate([np.ones(df.shape[0]).reshape(-1,1),\n",
    "                            df.child.values.reshape(-1,1),\n",
    "                            df.camper.values.reshape(-1,1)],\n",
    "                           axis=1)\n",
    "exog_vars_infl = np.concatenate([np.ones(df.shape[0]).reshape(-1,1),\n",
    "                                 df.persons.values.reshape(-1,1)],\n",
    "                                axis=1)\n",
    "m = ZIP(endog = endog_var,\n",
    "        exog = exog_vars,\n",
    "        exog_infl=exog_vars_infl,\n",
    "        inflation='logit').fit()"
   ]
  },
  {
   "cell_type": "code",
   "execution_count": 18,
   "metadata": {},
   "outputs": [
    {
     "data": {
      "text/html": [
       "<table class=\"simpletable\">\n",
       "<caption>ZeroInflatedPoisson Regression Results</caption>\n",
       "<tr>\n",
       "  <th>Dep. Variable:</th>            <td>y</td>          <th>  No. Observations:  </th>  <td>   250</td>  \n",
       "</tr>\n",
       "<tr>\n",
       "  <th>Model:</th>           <td>ZeroInflatedPoisson</td> <th>  Df Residuals:      </th>  <td>   247</td>  \n",
       "</tr>\n",
       "<tr>\n",
       "  <th>Method:</th>                  <td>MLE</td>         <th>  Df Model:          </th>  <td>     2</td>  \n",
       "</tr>\n",
       "<tr>\n",
       "  <th>Date:</th>             <td>Fri, 17 Apr 2020</td>   <th>  Pseudo R-squ.:     </th>  <td>0.08466</td> \n",
       "</tr>\n",
       "<tr>\n",
       "  <th>Time:</th>                 <td>00:26:40</td>       <th>  Log-Likelihood:    </th> <td> -1031.6</td> \n",
       "</tr>\n",
       "<tr>\n",
       "  <th>converged:</th>              <td>True</td>         <th>  LL-Null:           </th> <td> -1127.0</td> \n",
       "</tr>\n",
       "<tr>\n",
       "  <th>Covariance Type:</th>      <td>nonrobust</td>      <th>  LLR p-value:       </th> <td>3.647e-42</td>\n",
       "</tr>\n",
       "</table>\n",
       "<table class=\"simpletable\">\n",
       "<tr>\n",
       "        <td></td>           <th>coef</th>     <th>std err</th>      <th>z</th>      <th>P>|z|</th>  <th>[0.025</th>    <th>0.975]</th>  \n",
       "</tr>\n",
       "<tr>\n",
       "  <th>inflate_const</th> <td>    1.2974</td> <td>    0.365</td> <td>    3.554</td> <td> 0.000</td> <td>    0.582</td> <td>    2.013</td>\n",
       "</tr>\n",
       "<tr>\n",
       "  <th>inflate_x1</th>    <td>   -0.5643</td> <td>    0.151</td> <td>   -3.735</td> <td> 0.000</td> <td>   -0.860</td> <td>   -0.268</td>\n",
       "</tr>\n",
       "<tr>\n",
       "  <th>const</th>         <td>    1.5979</td> <td>    0.085</td> <td>   18.797</td> <td> 0.000</td> <td>    1.431</td> <td>    1.765</td>\n",
       "</tr>\n",
       "<tr>\n",
       "  <th>x1</th>            <td>   -1.0428</td> <td>    0.089</td> <td>  -11.660</td> <td> 0.000</td> <td>   -1.218</td> <td>   -0.868</td>\n",
       "</tr>\n",
       "<tr>\n",
       "  <th>x2</th>            <td>    0.8340</td> <td>    0.093</td> <td>    9.000</td> <td> 0.000</td> <td>    0.652</td> <td>    1.016</td>\n",
       "</tr>\n",
       "</table>"
      ],
      "text/plain": [
       "<class 'statsmodels.iolib.summary.Summary'>\n",
       "\"\"\"\n",
       "                     ZeroInflatedPoisson Regression Results                    \n",
       "===============================================================================\n",
       "Dep. Variable:                       y   No. Observations:                  250\n",
       "Model:             ZeroInflatedPoisson   Df Residuals:                      247\n",
       "Method:                            MLE   Df Model:                            2\n",
       "Date:                 Fri, 17 Apr 2020   Pseudo R-squ.:                 0.08466\n",
       "Time:                         00:26:40   Log-Likelihood:                -1031.6\n",
       "converged:                        True   LL-Null:                       -1127.0\n",
       "Covariance Type:             nonrobust   LLR p-value:                 3.647e-42\n",
       "=================================================================================\n",
       "                    coef    std err          z      P>|z|      [0.025      0.975]\n",
       "---------------------------------------------------------------------------------\n",
       "inflate_const     1.2974      0.365      3.554      0.000       0.582       2.013\n",
       "inflate_x1       -0.5643      0.151     -3.735      0.000      -0.860      -0.268\n",
       "const             1.5979      0.085     18.797      0.000       1.431       1.765\n",
       "x1               -1.0428      0.089    -11.660      0.000      -1.218      -0.868\n",
       "x2                0.8340      0.093      9.000      0.000       0.652       1.016\n",
       "=================================================================================\n",
       "\"\"\""
      ]
     },
     "execution_count": 18,
     "metadata": {},
     "output_type": "execute_result"
    }
   ],
   "source": [
    "m.summary()"
   ]
  },
  {
   "cell_type": "markdown",
   "metadata": {},
   "source": [
    "Alternative: run the model with robust standard errors -- these are MUCH larger for the parameters of the count component of the model."
   ]
  },
  {
   "cell_type": "code",
   "execution_count": 19,
   "metadata": {},
   "outputs": [
    {
     "name": "stdout",
     "output_type": "stream",
     "text": [
      "Optimization terminated successfully.\n",
      "         Current function value: 4.126434\n",
      "         Iterations: 16\n",
      "         Function evaluations: 18\n",
      "         Gradient evaluations: 18\n"
     ]
    },
    {
     "name": "stderr",
     "output_type": "stream",
     "text": [
      "/home/seb/py36/lib/python3.6/site-packages/statsmodels/base/model.py:512: ConvergenceWarning: Maximum Likelihood optimization failed to converge. Check mle_retvals\n",
      "  \"Check mle_retvals\", ConvergenceWarning)\n"
     ]
    }
   ],
   "source": [
    "m = ZIP(endog = endog_var,\n",
    "        exog = exog_vars,\n",
    "        exog_infl=exog_vars_infl,\n",
    "        inflation='logit').fit(cov_type='HC0')"
   ]
  },
  {
   "cell_type": "code",
   "execution_count": 20,
   "metadata": {},
   "outputs": [
    {
     "data": {
      "text/html": [
       "<table class=\"simpletable\">\n",
       "<caption>ZeroInflatedPoisson Regression Results</caption>\n",
       "<tr>\n",
       "  <th>Dep. Variable:</th>            <td>y</td>          <th>  No. Observations:  </th>  <td>   250</td>  \n",
       "</tr>\n",
       "<tr>\n",
       "  <th>Model:</th>           <td>ZeroInflatedPoisson</td> <th>  Df Residuals:      </th>  <td>   247</td>  \n",
       "</tr>\n",
       "<tr>\n",
       "  <th>Method:</th>                  <td>MLE</td>         <th>  Df Model:          </th>  <td>     2</td>  \n",
       "</tr>\n",
       "<tr>\n",
       "  <th>Date:</th>             <td>Fri, 17 Apr 2020</td>   <th>  Pseudo R-squ.:     </th>  <td>0.08466</td> \n",
       "</tr>\n",
       "<tr>\n",
       "  <th>Time:</th>                 <td>00:26:40</td>       <th>  Log-Likelihood:    </th> <td> -1031.6</td> \n",
       "</tr>\n",
       "<tr>\n",
       "  <th>converged:</th>              <td>True</td>         <th>  LL-Null:           </th> <td> -1127.0</td> \n",
       "</tr>\n",
       "<tr>\n",
       "  <th>Covariance Type:</th>         <td>HC0</td>         <th>  LLR p-value:       </th> <td>3.647e-42</td>\n",
       "</tr>\n",
       "</table>\n",
       "<table class=\"simpletable\">\n",
       "<tr>\n",
       "        <td></td>           <th>coef</th>     <th>std err</th>      <th>z</th>      <th>P>|z|</th>  <th>[0.025</th>    <th>0.975]</th>  \n",
       "</tr>\n",
       "<tr>\n",
       "  <th>inflate_const</th> <td>    1.2974</td> <td>    0.363</td> <td>    3.570</td> <td> 0.000</td> <td>    0.585</td> <td>    2.010</td>\n",
       "</tr>\n",
       "<tr>\n",
       "  <th>inflate_x1</th>    <td>   -0.5643</td> <td>    0.147</td> <td>   -3.843</td> <td> 0.000</td> <td>   -0.852</td> <td>   -0.277</td>\n",
       "</tr>\n",
       "<tr>\n",
       "  <th>const</th>         <td>    1.5979</td> <td>    0.283</td> <td>    5.647</td> <td> 0.000</td> <td>    1.043</td> <td>    2.152</td>\n",
       "</tr>\n",
       "<tr>\n",
       "  <th>x1</th>            <td>   -1.0428</td> <td>    0.309</td> <td>   -3.374</td> <td> 0.001</td> <td>   -1.649</td> <td>   -0.437</td>\n",
       "</tr>\n",
       "<tr>\n",
       "  <th>x2</th>            <td>    0.8340</td> <td>    0.388</td> <td>    2.148</td> <td> 0.032</td> <td>    0.073</td> <td>    1.595</td>\n",
       "</tr>\n",
       "</table>"
      ],
      "text/plain": [
       "<class 'statsmodels.iolib.summary.Summary'>\n",
       "\"\"\"\n",
       "                     ZeroInflatedPoisson Regression Results                    \n",
       "===============================================================================\n",
       "Dep. Variable:                       y   No. Observations:                  250\n",
       "Model:             ZeroInflatedPoisson   Df Residuals:                      247\n",
       "Method:                            MLE   Df Model:                            2\n",
       "Date:                 Fri, 17 Apr 2020   Pseudo R-squ.:                 0.08466\n",
       "Time:                         00:26:40   Log-Likelihood:                -1031.6\n",
       "converged:                        True   LL-Null:                       -1127.0\n",
       "Covariance Type:                   HC0   LLR p-value:                 3.647e-42\n",
       "=================================================================================\n",
       "                    coef    std err          z      P>|z|      [0.025      0.975]\n",
       "---------------------------------------------------------------------------------\n",
       "inflate_const     1.2974      0.363      3.570      0.000       0.585       2.010\n",
       "inflate_x1       -0.5643      0.147     -3.843      0.000      -0.852      -0.277\n",
       "const             1.5979      0.283      5.647      0.000       1.043       2.152\n",
       "x1               -1.0428      0.309     -3.374      0.001      -1.649      -0.437\n",
       "x2                0.8340      0.388      2.148      0.032       0.073       1.595\n",
       "=================================================================================\n",
       "\"\"\""
      ]
     },
     "execution_count": 20,
     "metadata": {},
     "output_type": "execute_result"
    }
   ],
   "source": [
    "m.summary()"
   ]
  },
  {
   "cell_type": "code",
   "execution_count": 21,
   "metadata": {},
   "outputs": [],
   "source": [
    "yhat = m.predict(exog=exog_vars, exog_infl=exog_vars_infl)"
   ]
  },
  {
   "cell_type": "code",
   "execution_count": 22,
   "metadata": {},
   "outputs": [
    {
     "data": {
      "image/png": "[encoded data removed]",
      "text/plain": [
       "<Figure size 720x432 with 1 Axes>"
      ]
     },
     "metadata": {
      "needs_background": "light"
     },
     "output_type": "display_data"
    }
   ],
   "source": [
    "f, ax = plt.subplots(1,1,figsize=(10, 6))\n",
    "ax.scatter(yhat, df['count'])\n",
    "ax.set_xlabel('prediction')\n",
    "ax.set_ylabel('truth')\n",
    "plt.show()"
   ]
  },
  {
   "cell_type": "markdown",
   "metadata": {},
   "source": [
    "**TODO** \n",
    "\n",
    "- add Vuong tests comparing ZIP to ordinary Poisson regression\n",
    "\n",
    "- add boostrapped standard errors"
   ]
  }
 ],
 "metadata": {
  "kernelspec": {
   "display_name": "Python 3",
   "language": "python",
   "name": "python3"
  },
  "language_info": {
   "codemirror_mode": {
    "name": "ipython",
    "version": 3
   },
   "file_extension": ".py",
   "mimetype": "text/x-python",
   "name": "python",
   "nbconvert_exporter": "python",
   "pygments_lexer": "ipython3",
   "version": "3.6.9"
  }
 },
 "nbformat": 4,
 "nbformat_minor": 4
}
