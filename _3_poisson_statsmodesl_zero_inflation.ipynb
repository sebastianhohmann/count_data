{
 "cells": [
  {
   "cell_type": "markdown",
   "metadata": {},
   "source": [
    "# Zero-inflated Poisson regression and some examples with `statsmodels`"
   ]
  },
  {
   "cell_type": "markdown",
   "metadata": {},
   "source": [
    "## 1) Theory"
   ]
  },
  {
   "cell_type": "markdown",
   "metadata": {},
   "source": [
    "The zero-inflated poisson model is a natural choice to model phenomena that are counts but that are characterized by an over-abundance of zeros compared what one would expect from a poisson random-variable. In general one can model this situation is with a mixture between two distributions. In particular (see Cameron and Trivedi (2013), section 4.6), given a base count density $f_2(y_i)$"
   ]
  },
  {
   "cell_type": "markdown",
   "metadata": {},
   "source": [
    "$$\n",
    "\\begin{align}\n",
    "\\mathbb{P}[y_i=j] = \\begin{cases} \\pi_i + (1-\\pi_i)f_2(0) \\;\\; \\text{if} \\; j = 0, \\\\\n",
    "(1-\\pi_i)f_2(j) \\;\\;\\;\\;\\;\\;\\;\\;\\; \\text{if} \\; j > 0\n",
    "\\end{cases}\n",
    "\\end{align}\n",
    "$$"
   ]
  },
  {
   "cell_type": "markdown",
   "metadata": {},
   "source": [
    "Hence we add a proportion of zeros $\\pi_i$ to the baseline distribution and the probabilities from the baseline model are decreased by the proportion $(1-\\pi_i)$ to make the probabilities add to one. One can either set $\\pi_i$ to a constant (just estimate an intercept) or let it depend on the $\\mathbf{x}_i$ e.g. via a logistic regression model."
   ]
  },
  {
   "cell_type": "markdown",
   "metadata": {},
   "source": [
    "The model is estimated by maximum likelihood. Define a censoring indicator"
   ]
  },
  {
   "cell_type": "markdown",
   "metadata": {},
   "source": [
    "$$\n",
    "\\begin{align}\n",
    "d_i = \\begin{cases}1 \\;\\;\\;\\; \\text{if } y_i > 0, \\\\\n",
    "0 \\;\\;\\;\\; \\text{if } y_i = 0, \n",
    "\\end{cases}\n",
    "\\end{align}\n",
    "$$"
   ]
  },
  {
   "cell_type": "markdown",
   "metadata": {},
   "source": [
    "Note that $d_i= 0$ with probability $\\pi_i$ and $d_i=1$ with probability $1-\\pi_i$. Hence the density becomes"
   ]
  },
  {
   "cell_type": "markdown",
   "metadata": {},
   "source": [
    "$$\n",
    "f(y_i) = [\\pi_i + (1-\\pi_i)f_2(0)]^{1-d_i}\\times[(1-\\pi)f_2(y_i)]^{d_i}\n",
    "$$"
   ]
  },
  {
   "cell_type": "markdown",
   "metadata": {},
   "source": [
    "If we let the zero-inflation component $\\pi_i$ and the base count density $f_2(y_i)$ be functions of the parameter vector $\\mathbf{x}_i$, the likelihood can be written as"
   ]
  },
  {
   "cell_type": "markdown",
   "metadata": {},
   "source": [
    "$$\n",
    "\\begin{align}\n",
    "L(\\mathbf{\\theta}_1,\\mathbf{\\theta}_2|\\mathbf{X},\\mathbf{Y}) &=  \\prod_{i=1}^m[\\pi_i(\\mathbf{x}_i, \\mathbf{\\theta}_1) + (1-\\pi_i(\\mathbf{x}_i, \\mathbf{\\theta}_1))f_2(0|\\mathbf{x}_i,\\mathbf{\\theta}_2)]^{1-d_i}\\times[(1-\\pi(\\mathbf{x}_i, \\mathbf{\\theta}_1))f_2(y_i|\\mathbf{x}_i,\\mathbf{\\theta}_2)]^{d_i}\n",
    "\\end{align}\n",
    "$$"
   ]
  },
  {
   "cell_type": "markdown",
   "metadata": {},
   "source": [
    "One particular version of such a model is to make $f_2(y_i)$ poisson and model $\\pi_i$ with a logit. This is the model considered by Lambert (1992). In particular"
   ]
  },
  {
   "cell_type": "markdown",
   "metadata": {},
   "source": [
    "$$\n",
    "\\begin{align}\n",
    "\\mathbf{\\pi}_i(\\mathbf{x}_i,\\mathbf{\\theta}_1) &= \\frac{\\mathrm{e}^{\\mathbf{\\theta_1}'\\mathbf{x}_i}}{1+\\mathrm{e}^{\\mathbf{\\theta_1}'\\mathbf{x}_i}} \\\\\n",
    "f_2(y_i|\\mathbf{x}_i, \\mathbf{\\theta}_2) &= \\frac{\\mathrm{e}^{y_i\\mathbf{\\theta}_2'\\mathbf{x}_i}\\mathrm{e}^{-\\mathrm{e}^{\\mathbf{\\theta}_2'\\mathbf{x}_i}}}{y_i!} \n",
    "\\end{align}\n",
    "$$"
   ]
  },
  {
   "cell_type": "markdown",
   "metadata": {},
   "source": [
    "For details on gradient and Hessian of the likelihood, see https://ncss-wpengine.netdna-ssl.com/wp-content/themes/ncss/pdf/Procedures/NCSS/Zero-Inflated_Poisson_Regression.pdf"
   ]
  },
  {
   "cell_type": "markdown",
   "metadata": {},
   "source": [
    "Cameron and Trivedi (2013) suggest that economic data still suffer from over-dispersion and therefore recommend to use the Negative Binomial model for the base count density. The problem is that this more heavily parameterized model is more difficult to estimate. Hence the convergence of the ML estimation may be slow"
   ]
  },
  {
   "cell_type": "markdown",
   "metadata": {},
   "source": [
    "## 2) Examples"
   ]
  },
  {
   "cell_type": "markdown",
   "metadata": {},
   "source": [
    "### 2.1) Example one: weekend drinking\n",
    "\n",
    "The is a nice example since it gives an explicit motivation for using a mixture. Ask a group of students: \"How many drinks did you have this weekend?\" The group may contain drinkers and non-drinkers. The non-drinkers never drink (so they are part of the $\\pi_i$), but even some of the drinkers may not have had a drink this weekend, so they may also report a zero (their poisson RV had a draw of zero). "
   ]
  },
  {
   "cell_type": "markdown",
   "metadata": {},
   "source": [
    "https://bookdown.org/roback/bookdown-bysh/ch-poissonreg.html#cs:drinking"
   ]
  },
  {
   "cell_type": "code",
   "execution_count": 1,
   "metadata": {},
   "outputs": [
    {
     "name": "stderr",
     "output_type": "stream",
     "text": [
      "/home/seb/py36/lib/python3.6/site-packages/statsmodels/tools/_testing.py:19: FutureWarning: pandas.util.testing is deprecated. Use the functions in the public API at pandas.testing instead.\n",
      "  import pandas.util.testing as tm\n"
     ]
    }
   ],
   "source": [
    "import numpy as np\n",
    "import pandas as pd\n",
    "import matplotlib.pyplot as plt\n",
    "import matplotlib as mpl\n",
    "plt.style.use('seaborn')\n",
    "mpl.rcParams['font.family'] = 'serif'\n",
    "%matplotlib inline\n",
    "\n",
    "import statsmodels.api as sm\n",
    "from statsmodels.discrete.count_model import ZeroInflatedPoisson as ZIP"
   ]
  },
  {
   "cell_type": "code",
   "execution_count": 2,
   "metadata": {},
   "outputs": [],
   "source": [
    "df = pd.read_csv('./weekendDrinks.csv')"
   ]
  },
  {
   "cell_type": "code",
   "execution_count": 3,
   "metadata": {},
   "outputs": [
    {
     "data": {
      "image/png": "[encoded data removed]",
      "text/plain": [
       "<Figure size 1800x504 with 2 Axes>"
      ]
     },
     "metadata": {
      "needs_background": "light"
     },
     "output_type": "display_data"
    }
   ],
   "source": [
    "f, ax = plt.subplots(1,2, figsize=(25,7))\n",
    "ax[0].hist(df.drinks, bins=15, edgecolor=\"k\", linewidth=1.5)\n",
    "ax[0].set_title('observed')\n",
    "\n",
    "lamb = df.drinks.mean()\n",
    "theoretical = np.array([(lamb**k)*np.exp(-lamb) / np.math.factorial(k) for k in range(df.drinks.max()+1)])\n",
    "\n",
    "ax[1].bar(np.arange(0,df.drinks.max()+1), theoretical)\n",
    "ax[1].set_title('poisson model')\n",
    "\n",
    "plt.show()"
   ]
  },
  {
   "cell_type": "markdown",
   "metadata": {},
   "source": [
    "First, we can fit a simple Poisson model"
   ]
  },
  {
   "cell_type": "code",
   "execution_count": 4,
   "metadata": {},
   "outputs": [],
   "source": [
    "df['off_campus'] = (df.dorm == 'off campus')\n",
    "df['male'] = (df.sex == 'm')"
   ]
  },
  {
   "cell_type": "code",
   "execution_count": 5,
   "metadata": {},
   "outputs": [],
   "source": [
    "endog_var = df.drinks.values\n",
    "exog_vars = np.concatenate([np.ones(df.shape[0]).reshape(-1,1),\n",
    "                            df.off_campus.values.reshape(-1,1),\n",
    "                            df.male.values.reshape(-1,1)],\n",
    "                           axis=1)\n",
    "m = sm.GLM(endog = endog_var,\n",
    "           exog = exog_vars,\n",
    "           family = sm.families.Poisson()).fit()"
   ]
  },
  {
   "cell_type": "code",
   "execution_count": 6,
   "metadata": {},
   "outputs": [
    {
     "data": {
      "text/html": [
       "<table class=\"simpletable\">\n",
       "<caption>Generalized Linear Model Regression Results</caption>\n",
       "<tr>\n",
       "  <th>Dep. Variable:</th>           <td>y</td>        <th>  No. Observations:  </th>  <td>    77</td> \n",
       "</tr>\n",
       "<tr>\n",
       "  <th>Model:</th>                  <td>GLM</td>       <th>  Df Residuals:      </th>  <td>    74</td> \n",
       "</tr>\n",
       "<tr>\n",
       "  <th>Model Family:</th>         <td>Poisson</td>     <th>  Df Model:          </th>  <td>     2</td> \n",
       "</tr>\n",
       "<tr>\n",
       "  <th>Link Function:</th>          <td>log</td>       <th>  Scale:             </th> <td>  1.0000</td>\n",
       "</tr>\n",
       "<tr>\n",
       "  <th>Method:</th>                <td>IRLS</td>       <th>  Log-Likelihood:    </th> <td> -175.55</td>\n",
       "</tr>\n",
       "<tr>\n",
       "  <th>Date:</th>            <td>Thu, 16 Apr 2020</td> <th>  Deviance:          </th> <td>  230.54</td>\n",
       "</tr>\n",
       "<tr>\n",
       "  <th>Time:</th>                <td>01:02:51</td>     <th>  Pearson chi2:      </th>  <td>  254.</td> \n",
       "</tr>\n",
       "<tr>\n",
       "  <th>No. Iterations:</th>          <td>5</td>        <th>                     </th>     <td> </td>   \n",
       "</tr>\n",
       "<tr>\n",
       "  <th>Covariance Type:</th>     <td>nonrobust</td>    <th>                     </th>     <td> </td>   \n",
       "</tr>\n",
       "</table>\n",
       "<table class=\"simpletable\">\n",
       "<tr>\n",
       "    <td></td>       <th>coef</th>     <th>std err</th>      <th>z</th>      <th>P>|z|</th>  <th>[0.025</th>    <th>0.975]</th>  \n",
       "</tr>\n",
       "<tr>\n",
       "  <th>const</th> <td>    0.1293</td> <td>    0.124</td> <td>    1.041</td> <td> 0.298</td> <td>   -0.114</td> <td>    0.373</td>\n",
       "</tr>\n",
       "<tr>\n",
       "  <th>x1</th>    <td>    0.8976</td> <td>    0.201</td> <td>    4.470</td> <td> 0.000</td> <td>    0.504</td> <td>    1.291</td>\n",
       "</tr>\n",
       "<tr>\n",
       "  <th>x2</th>    <td>    1.1154</td> <td>    0.161</td> <td>    6.925</td> <td> 0.000</td> <td>    0.800</td> <td>    1.431</td>\n",
       "</tr>\n",
       "</table>"
      ],
      "text/plain": [
       "<class 'statsmodels.iolib.summary.Summary'>\n",
       "\"\"\"\n",
       "                 Generalized Linear Model Regression Results                  \n",
       "==============================================================================\n",
       "Dep. Variable:                      y   No. Observations:                   77\n",
       "Model:                            GLM   Df Residuals:                       74\n",
       "Model Family:                 Poisson   Df Model:                            2\n",
       "Link Function:                    log   Scale:                          1.0000\n",
       "Method:                          IRLS   Log-Likelihood:                -175.55\n",
       "Date:                Thu, 16 Apr 2020   Deviance:                       230.54\n",
       "Time:                        01:02:51   Pearson chi2:                     254.\n",
       "No. Iterations:                     5                                         \n",
       "Covariance Type:            nonrobust                                         \n",
       "==============================================================================\n",
       "                 coef    std err          z      P>|z|      [0.025      0.975]\n",
       "------------------------------------------------------------------------------\n",
       "const          0.1293      0.124      1.041      0.298      -0.114       0.373\n",
       "x1             0.8976      0.201      4.470      0.000       0.504       1.291\n",
       "x2             1.1154      0.161      6.925      0.000       0.800       1.431\n",
       "==============================================================================\n",
       "\"\"\""
      ]
     },
     "execution_count": 6,
     "metadata": {},
     "output_type": "execute_result"
    }
   ],
   "source": [
    "m.summary()"
   ]
  },
  {
   "cell_type": "code",
   "execution_count": 7,
   "metadata": {},
   "outputs": [
    {
     "name": "stdout",
     "output_type": "stream",
     "text": [
      "230.5439891062946\n"
     ]
    }
   ],
   "source": [
    "print(m.deviance)"
   ]
  },
  {
   "cell_type": "markdown",
   "metadata": {},
   "source": [
    "Since the data does not contain the `first_year` column, we will just randomly generate one."
   ]
  },
  {
   "cell_type": "code",
   "execution_count": 8,
   "metadata": {},
   "outputs": [],
   "source": [
    "fy = np.hstack((np.ones(df.shape[0]//2), np.zeros(df.shape[0]-df.shape[0]//2)))\n",
    "np.random.shuffle(fy)\n",
    "df['first_year'] = fy"
   ]
  },
  {
   "cell_type": "code",
   "execution_count": 9,
   "metadata": {},
   "outputs": [
    {
     "name": "stdout",
     "output_type": "stream",
     "text": [
      "Optimization terminated successfully.\n",
      "         Current function value: 1.850964\n",
      "         Iterations: 18\n",
      "         Function evaluations: 19\n",
      "         Gradient evaluations: 19\n"
     ]
    },
    {
     "name": "stderr",
     "output_type": "stream",
     "text": [
      "/home/seb/py36/lib/python3.6/site-packages/statsmodels/base/model.py:512: ConvergenceWarning: Maximum Likelihood optimization failed to converge. Check mle_retvals\n",
      "  \"Check mle_retvals\", ConvergenceWarning)\n"
     ]
    }
   ],
   "source": [
    "endog_var = df.drinks.values\n",
    "exog_vars = np.concatenate([np.ones(df.shape[0]).reshape(-1,1),\n",
    "                            df.off_campus.values.reshape(-1,1),\n",
    "                            df.male.values.reshape(-1,1)],\n",
    "                           axis=1)\n",
    "exog_vars_infl = np.concatenate([np.ones(df.shape[0]).reshape(-1,1),\n",
    "                                 df.first_year.values.reshape(-1,1)],\n",
    "                                axis=1)\n",
    "m = ZIP(endog = endog_var,\n",
    "        exog = exog_vars,\n",
    "        exog_infl=exog_vars_infl).fit()"
   ]
  },
  {
   "cell_type": "code",
   "execution_count": 10,
   "metadata": {},
   "outputs": [
    {
     "data": {
      "text/html": [
       "<table class=\"simpletable\">\n",
       "<caption>ZeroInflatedPoisson Regression Results</caption>\n",
       "<tr>\n",
       "  <th>Dep. Variable:</th>            <td>y</td>          <th>  No. Observations:  </th>  <td>    77</td>  \n",
       "</tr>\n",
       "<tr>\n",
       "  <th>Model:</th>           <td>ZeroInflatedPoisson</td> <th>  Df Residuals:      </th>  <td>    74</td>  \n",
       "</tr>\n",
       "<tr>\n",
       "  <th>Method:</th>                  <td>MLE</td>         <th>  Df Model:          </th>  <td>     2</td>  \n",
       "</tr>\n",
       "<tr>\n",
       "  <th>Date:</th>             <td>Thu, 16 Apr 2020</td>   <th>  Pseudo R-squ.:     </th>  <td>0.1206</td>  \n",
       "</tr>\n",
       "<tr>\n",
       "  <th>Time:</th>                 <td>01:02:51</td>       <th>  Log-Likelihood:    </th> <td> -142.52</td> \n",
       "</tr>\n",
       "<tr>\n",
       "  <th>converged:</th>              <td>True</td>         <th>  LL-Null:           </th> <td> -162.08</td> \n",
       "</tr>\n",
       "<tr>\n",
       "  <th>Covariance Type:</th>      <td>nonrobust</td>      <th>  LLR p-value:       </th> <td>3.221e-09</td>\n",
       "</tr>\n",
       "</table>\n",
       "<table class=\"simpletable\">\n",
       "<tr>\n",
       "        <td></td>           <th>coef</th>     <th>std err</th>      <th>z</th>      <th>P>|z|</th>  <th>[0.025</th>    <th>0.975]</th>  \n",
       "</tr>\n",
       "<tr>\n",
       "  <th>inflate_const</th> <td>   -0.3561</td> <td>    0.358</td> <td>   -0.994</td> <td> 0.320</td> <td>   -1.058</td> <td>    0.346</td>\n",
       "</tr>\n",
       "<tr>\n",
       "  <th>inflate_x1</th>    <td>    0.0293</td> <td>    0.512</td> <td>    0.057</td> <td> 0.954</td> <td>   -0.974</td> <td>    1.033</td>\n",
       "</tr>\n",
       "<tr>\n",
       "  <th>const</th>         <td>    0.7473</td> <td>    0.141</td> <td>    5.316</td> <td> 0.000</td> <td>    0.472</td> <td>    1.023</td>\n",
       "</tr>\n",
       "<tr>\n",
       "  <th>x1</th>            <td>    0.4210</td> <td>    0.205</td> <td>    2.053</td> <td> 0.040</td> <td>    0.019</td> <td>    0.823</td>\n",
       "</tr>\n",
       "<tr>\n",
       "  <th>x2</th>            <td>    1.0269</td> <td>    0.173</td> <td>    5.939</td> <td> 0.000</td> <td>    0.688</td> <td>    1.366</td>\n",
       "</tr>\n",
       "</table>"
      ],
      "text/plain": [
       "<class 'statsmodels.iolib.summary.Summary'>\n",
       "\"\"\"\n",
       "                     ZeroInflatedPoisson Regression Results                    \n",
       "===============================================================================\n",
       "Dep. Variable:                       y   No. Observations:                   77\n",
       "Model:             ZeroInflatedPoisson   Df Residuals:                       74\n",
       "Method:                            MLE   Df Model:                            2\n",
       "Date:                 Thu, 16 Apr 2020   Pseudo R-squ.:                  0.1206\n",
       "Time:                         01:02:51   Log-Likelihood:                -142.52\n",
       "converged:                        True   LL-Null:                       -162.08\n",
       "Covariance Type:             nonrobust   LLR p-value:                 3.221e-09\n",
       "=================================================================================\n",
       "                    coef    std err          z      P>|z|      [0.025      0.975]\n",
       "---------------------------------------------------------------------------------\n",
       "inflate_const    -0.3561      0.358     -0.994      0.320      -1.058       0.346\n",
       "inflate_x1        0.0293      0.512      0.057      0.954      -0.974       1.033\n",
       "const             0.7473      0.141      5.316      0.000       0.472       1.023\n",
       "x1                0.4210      0.205      2.053      0.040       0.019       0.823\n",
       "x2                1.0269      0.173      5.939      0.000       0.688       1.366\n",
       "=================================================================================\n",
       "\"\"\""
      ]
     },
     "execution_count": 10,
     "metadata": {},
     "output_type": "execute_result"
    }
   ],
   "source": [
    "m.summary()"
   ]
  },
  {
   "cell_type": "code",
   "execution_count": 11,
   "metadata": {},
   "outputs": [],
   "source": [
    "yhat = m.predict(exog=exog_vars, exog_infl=exog_vars_infl)"
   ]
  },
  {
   "cell_type": "code",
   "execution_count": 12,
   "metadata": {},
   "outputs": [
    {
     "data": {
      "image/png": "[encoded data removed]",
      "text/plain": [
       "<Figure size 720x432 with 1 Axes>"
      ]
     },
     "metadata": {
      "needs_background": "light"
     },
     "output_type": "display_data"
    }
   ],
   "source": [
    "f, ax = plt.subplots(1,1,figsize=(10, 6))\n",
    "ax.scatter(yhat, df.drinks)\n",
    "ax.set_xlabel('prediction')\n",
    "ax.set_ylabel('truth')\n",
    "plt.show()"
   ]
  },
  {
   "cell_type": "markdown",
   "metadata": {},
   "source": [
    "### 2.2) Second example: fish caught in state park"
   ]
  },
  {
   "cell_type": "markdown",
   "metadata": {},
   "source": [
    "Example is taken from here: https://stats.idre.ucla.edu/r/dae/zip/"
   ]
  },
  {
   "cell_type": "code",
   "execution_count": null,
   "metadata": {},
   "outputs": [],
   "source": []
  }
 ],
 "metadata": {
  "kernelspec": {
   "display_name": "Python 3",
   "language": "python",
   "name": "python3"
  },
  "language_info": {
   "codemirror_mode": {
    "name": "ipython",
    "version": 3
   },
   "file_extension": ".py",
   "mimetype": "text/x-python",
   "name": "python",
   "nbconvert_exporter": "python",
   "pygments_lexer": "ipython3",
   "version": "3.6.9"
  }
 },
 "nbformat": 4,
 "nbformat_minor": 4
}
