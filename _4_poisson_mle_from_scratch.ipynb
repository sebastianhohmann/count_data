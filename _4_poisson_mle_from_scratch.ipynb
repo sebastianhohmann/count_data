{
 "cells": [
  {
   "cell_type": "markdown",
   "metadata": {},
   "source": [
    "# Poisson MLE from scratch"
   ]
  },
  {
   "cell_type": "markdown",
   "metadata": {},
   "source": [
    "## 1) Theory\n",
    "\n",
    "This is mainly taken from https://en.wikipedia.org/wiki/Poisson_regression"
   ]
  },
  {
   "cell_type": "markdown",
   "metadata": {},
   "source": [
    "- Let $Y$ denote the (count) response variable\n",
    "- Let $\\mathbf{x}\\in \\mathbb{R}^n$ be a vector of predictors\n",
    "\n",
    "Then we can write the model as\n",
    "\n",
    "$$\n",
    "\\begin{align}\n",
    "\\log(\\mathbb{E}[Y|\\mathbf{x}]) &= \\alpha + \\mathbf{\\beta}'\\mathbf{x} \\\\\n",
    "\\log(\\mathbb{E}[Y|\\mathbf{x}]) &= \\mathbf{\\theta}'\\mathbf{x},\n",
    "\\end{align}\n",
    "$$\n",
    "\n",
    "where in the last line, $\\mathbf{x}$ concatenates 1 and the previous $\\mathbf{x}$ and so $\\mathbf{x}\\in\\mathbb{R}^{n+1}$ and $\\mathbf{\\theta}$ is a $\\alpha$ concatenated to $\\mathbf{\\beta}$.\n",
    "\n",
    "Hence given a Poisson regression model $\\mathbf{\\theta}$ and an input vector $\\mathbf{x}$, the predicted mean of the associated Poisson distribution is given by \n",
    "\n",
    "$$\n",
    "\\begin{align}\n",
    "\\mathbb{E}[Y|\\mathbf{x}] &= \\mathrm{e}^{\\mathbf{\\theta}'\\mathbf{x}}.\n",
    "\\end{align}\n",
    "$$"
   ]
  },
  {
   "cell_type": "markdown",
   "metadata": {},
   "source": [
    "### 1.1) Maximum likelihood-based parameter estimation"
   ]
  },
  {
   "cell_type": "markdown",
   "metadata": {},
   "source": [
    "Given $\\mathbf{\\theta}$ and $\\mathbf{x}$, we have\n",
    "\n",
    "$$\n",
    "\\begin{align}\n",
    "\\lambda := \\mathbb{E}[Y|\\mathbf{x}] &= \\mathrm{e}^{\\mathbf{\\theta}'\\mathbf{x}}.\n",
    "\\end{align}\n",
    "$$"
   ]
  },
  {
   "cell_type": "markdown",
   "metadata": {},
   "source": [
    "The Poisson probability mass function is therefore given by"
   ]
  },
  {
   "cell_type": "markdown",
   "metadata": {},
   "source": [
    "$$\n",
    "\\begin{align}\n",
    "p(y|x;\\mathbf{\\theta}) &= \\frac{\\lambda^y\\mathrm{e}^{-\\lambda}}{y!} = \\frac{(\\mathrm{e}^{\\mathbf{\\theta}'\\mathbf{x}})^y\\mathrm{e}^{-(\\mathrm{e}^{\\mathbf{\\theta}'\\mathbf{x}})}}{y!} = \\frac{\\mathrm{e}^{y\\mathbf{\\theta}'\\mathbf{x}}\\mathrm{e}^{-\\mathrm{e}^{\\mathbf{\\theta}'\\mathbf{x}}}}{y!} \n",
    "\\end{align}\n",
    "$$"
   ]
  },
  {
   "cell_type": "markdown",
   "metadata": {},
   "source": [
    "Under independence, the probability of any particular dataset $((y_1, \\mathbf{x}_1),...(y_m, \\mathbf{x}_m))$ is therefore given by"
   ]
  },
  {
   "cell_type": "markdown",
   "metadata": {},
   "source": [
    "$$\n",
    "\\begin{align}\n",
    "p(y_1,...,y_m|\\mathbf{x}_1,....\\mathbf{x}_m) = \\prod_{i=1}^m \\frac{\\mathrm{e}^{y_i\\mathbf{\\theta}'\\mathbf{x}_i}\\mathrm{e}^{-\\mathrm{e}^{\\mathbf{\\theta}'\\mathbf{x}_i}}}{y_i!} \n",
    "\\end{align}\n",
    "$$"
   ]
  },
  {
   "cell_type": "markdown",
   "metadata": {},
   "source": [
    "By the method of maximum likelihood, the likelihood function is given by"
   ]
  },
  {
   "cell_type": "markdown",
   "metadata": {},
   "source": [
    "$$\n",
    "\\begin{align}\n",
    "L(\\theta | X, Y) &= \\prod_{i=1}^m \\frac{\\mathrm{e}^{y_i\\mathbf{\\theta}'\\mathbf{x}_i}\\mathrm{e}^{-\\mathrm{e}^{\\mathbf{\\theta}'\\mathbf{x}_i}}}{y_i!} \n",
    "\\end{align}\n",
    "$$"
   ]
  },
  {
   "cell_type": "markdown",
   "metadata": {},
   "source": [
    "As usual, the log-likelihood is easier to maximize. It is given by"
   ]
  },
  {
   "cell_type": "markdown",
   "metadata": {},
   "source": [
    "$$\n",
    "\\begin{align}\n",
    "\\ell(\\theta|X,Y) = \\log(L(\\theta|X,Y)) &= \\sum_{i=1}^m \\left(y_i\\mathbf{\\theta}'\\mathbf{x}_i - \\mathrm{e}^{\\mathbf{\\theta}'\\mathbf{x}_i} - \\log(y_i!)\\right) \\\\\n",
    "&\\propto \\sum_{i=1}^m \\left(y_i\\mathbf{\\theta}'\\mathbf{x}_i - \\mathrm{e}^{\\mathbf{\\theta}'\\mathbf{x}_i}\\right).\n",
    "\\end{align}\n",
    "$$"
   ]
  },
  {
   "cell_type": "markdown",
   "metadata": {},
   "source": [
    "Taking a derivative with respect to $\\theta_i$, we get"
   ]
  },
  {
   "cell_type": "markdown",
   "metadata": {},
   "source": [
    "$$\n",
    "\\begin{align}\n",
    "\\frac{\\partial \\ell(\\theta| X, Y)}{\\partial \\theta_j} &= \\sum_{i=1}^m y_ix_{ij} - x_{ij}\\mathrm{e}^{\\mathbf{\\theta}'\\mathbf{x}_i}.\n",
    "\\end{align}\n",
    "$$\n"
   ]
  },
  {
   "cell_type": "markdown",
   "metadata": {},
   "source": [
    "The gradient vector of the log-likelihood (score) is therefore given by"
   ]
  },
  {
   "cell_type": "markdown",
   "metadata": {},
   "source": [
    "$$\n",
    "\\begin{align}\n",
    "\\nabla_\\theta \\ell(\\theta| X, Y) &= \\sum_{i=1}^m y_i \\mathbf{x}_i - \\mathbf{x}_i\\mathrm{e}^{\\mathbf{\\theta}'\\mathbf{x_i}} \\\\\n",
    " &= \\sum_{i=1}^m (y_i - \\mathrm{e}^{\\mathbf{\\theta}'\\mathbf{x_i}})\\mathbf{x}_i \\\\\n",
    " &= \\sum_{i=1}^m (y_i - \\hat{y}_i)\\mathbf{x}_i \\;\\;\\;\\;\\;\\;\\;\\;\\;\\;\\;\\; (\\text{at the MLE }\\hat{\\theta}).\n",
    "\\end{align}\n",
    "$$"
   ]
  },
  {
   "cell_type": "markdown",
   "metadata": {},
   "source": [
    "In vectorized form this can be written as"
   ]
  },
  {
   "cell_type": "markdown",
   "metadata": {},
   "source": [
    "$$\n",
    "\\begin{align}\n",
    "\\nabla_\\theta \\ell(\\theta| X, Y) &= \\mathbf{X}'(\\mathbf{y}-\\mathbf{\\hat{y}})\n",
    "\\end{align}\n",
    "$$"
   ]
  },
  {
   "cell_type": "markdown",
   "metadata": {},
   "source": [
    "And the Hessian is"
   ]
  },
  {
   "cell_type": "markdown",
   "metadata": {},
   "source": [
    "$$\n",
    "\\begin{align}\n",
    "H_\\theta \\ell(\\theta|X,Y) &= \\nabla_{\\theta'}\\left(\\nabla_{\\theta}\\ell(\\theta|X,Y) \\right) \\\\\n",
    "&= \\nabla_{\\theta'} \\left(\\sum_{i=1}^m y_i \\mathbf{x}_i - \\mathbf{x}_i\\mathrm{e}^{\\mathbf{\\theta}'\\mathbf{x_i}} \\right) \\\\\n",
    "&= -\\sum_{i=1}^m\\mathrm{e}^{\\mathbf{\\theta}'\\mathbf{x_i}}\\mathbf{x}_i\\mathbf{x}_i' \\\\\n",
    "&= -\\sum_{i=1}^m\\hat{y}_i\\mathbf{x}_i\\mathbf{x}_i' \\;\\;\\;\\;\\;\\;\\;\\;\\;\\;\\;\\; (\\text{at the MLE }\\hat{\\theta}).\n",
    "\\end{align}\n",
    "$$"
   ]
  },
  {
   "cell_type": "markdown",
   "metadata": {},
   "source": [
    "In vectorized form this can be written as (see here: https://stats.stackexchange.com/questions/253558/poisson-regression-and-hessian ) "
   ]
  },
  {
   "cell_type": "markdown",
   "metadata": {},
   "source": [
    "$$\n",
    "\\begin{align}\n",
    "H_\\theta \\ell(\\theta|X,Y) &= -\\mathbf{X}'\\mathrm{Diag}(\\mathbf{\\hat{y}})\\mathbf{X}\n",
    "\\end{align}\n",
    "$$\n",
    "\n",
    "where\n",
    "\n",
    "$$\n",
    "\\begin{align}\n",
    "\\mathrm{Diag}(\\mathbf{\\hat{y}}) &= \\begin{bmatrix} \\mathrm{e}^{\\hat{\\theta}'\\mathbf{x}_1} & 0 & ... & 0 \\\\ \n",
    "                                                    0       &  \\mathrm{e}^{\\hat{\\theta}'\\mathbf{x}_2} & ... & 0 \\\\\n",
    "                                                    \\vdots & & \\ddots & \\vdots \\\\\n",
    "                                                    0 & 0 & ... & \\mathrm{e}^{\\hat{\\theta}'\\mathbf{x}_m}\n",
    "                                    \\end{bmatrix}.\n",
    "\\end{align}\n",
    "$$"
   ]
  },
  {
   "cell_type": "markdown",
   "metadata": {},
   "source": [
    "Recall that the asymptotic variance-covariance matrix of the MLE can be found by the inverse of the **observed** Fisher information matrix (the observed Fisher information matrix is the  negative of the second derivative of the log-likelihood evaluated at the MLE $\\hat{\\theta}$.). Hence the inverse of the (negative) Hessian is an estimator of the asymptotic covariance matrix ( https://stats.stackexchange.com/questions/68080/basic-question-about-fisher-information-matrix-and-relationship-to-hessian-and-s ). "
   ]
  },
  {
   "cell_type": "markdown",
   "metadata": {},
   "source": [
    "## 2) Implementation\n",
    "\n",
    "In practice, the likelihood can be maximised with a number of algorithms. Gradient descent turns out to be unstable. Iteratively re-weighted least squares (IRLS) works much better. For the latter, see \n",
    "\n",
    "- https://arxiv.org/pdf/1903.01690v2.pdf\n",
    "- https://gtools.readthedocs.io/en/latest/usage/gpoisson/index.html\n",
    "\n",
    "The python class `PoissonMLE` implements both procedures and also computes the covariance matrix."
   ]
  },
  {
   "cell_type": "code",
   "execution_count": 1,
   "metadata": {},
   "outputs": [],
   "source": [
    "import numpy as np\n",
    "import pandas as pd\n",
    "from poisson_mle import PoissonMLE\n",
    "import matplotlib.pyplot as plt\n",
    "%matplotlib inline"
   ]
  },
  {
   "cell_type": "markdown",
   "metadata": {},
   "source": [
    "### 2.1) Example with fake data\n",
    "\n",
    "Data generation from here: https://towardsdatascience.com/fitting-glms-by-hand-189c02af33a8"
   ]
  },
  {
   "cell_type": "code",
   "execution_count": 2,
   "metadata": {},
   "outputs": [],
   "source": [
    "np.random.seed(123)\n",
    "\n",
    "m = 1000 \n",
    "p = 9\n",
    "X = np.random.standard_normal((m, p))\n",
    "X = np.concatenate([np.ones(X.shape[0]).reshape(-1, 1), X], axis=1)\n",
    "theta = np.random.randn(p+1)/2\n",
    "lam = np.exp(X @ theta)\n",
    "y = np.random.poisson(lam = lam).reshape(-1,1)\n",
    "\n",
    "learning_rate = 0.0001\n",
    "theta_init = np.random.standard_normal((p+1,1))"
   ]
  },
  {
   "cell_type": "markdown",
   "metadata": {},
   "source": [
    "#### 2.1.1) Compute MLE with gradient descent"
   ]
  },
  {
   "cell_type": "code",
   "execution_count": 3,
   "metadata": {},
   "outputs": [],
   "source": [
    "pmle = PoissonMLE(y, X)\n",
    "pmle.gradient_descent(theta_init, learning_rate)"
   ]
  },
  {
   "cell_type": "code",
   "execution_count": 4,
   "metadata": {},
   "outputs": [
    {
     "data": {
      "image/png": "[encoded data removed]",
      "text/plain": [
       "<Figure size 720x432 with 1 Axes>"
      ]
     },
     "metadata": {
      "needs_background": "light"
     },
     "output_type": "display_data"
    }
   ],
   "source": [
    "f, ax = plt.subplots(1,1, figsize=(10, 6))\n",
    "ax.scatter(pmle.theta, theta)\n",
    "ax.set(xlabel='$\\hat{\\\\theta}$', ylabel='$\\\\theta$')\n",
    "plt.show()"
   ]
  },
  {
   "cell_type": "markdown",
   "metadata": {},
   "source": [
    "#### 2.1.2) Compute MLE with IRLS"
   ]
  },
  {
   "cell_type": "code",
   "execution_count": 5,
   "metadata": {},
   "outputs": [],
   "source": [
    "pmle = PoissonMLE(y, X)\n",
    "pmle.irls()"
   ]
  },
  {
   "cell_type": "code",
   "execution_count": 6,
   "metadata": {},
   "outputs": [
    {
     "data": {
      "image/png": "[encoded data removed]",
      "text/plain": [
       "<Figure size 720x432 with 1 Axes>"
      ]
     },
     "metadata": {
      "needs_background": "light"
     },
     "output_type": "display_data"
    }
   ],
   "source": [
    "f, ax = plt.subplots(1,1, figsize=(10, 6))\n",
    "ax.scatter(pmle.theta, theta)\n",
    "ax.set(xlabel='$\\hat{\\\\theta}$', ylabel='$\\\\theta$')\n",
    "plt.show()"
   ]
  },
  {
   "cell_type": "markdown",
   "metadata": {},
   "source": [
    "### 2.2) Students and days, one more time\n",
    "\n",
    "Again the example data is from here: https://www.theanalysisfactor.com/generalized-linear-models-in-r-part-6-poisson-regression-count-variables/ . This is the same data that we analyzed in `_1_poisson_statsmodels`. We only use IRLS this time, as gradient descent is unstable. We also compute the covariance matrix to show that the standard errors are exactly the same as those obtained with `statsmodels`."
   ]
  },
  {
   "cell_type": "code",
   "execution_count": 7,
   "metadata": {},
   "outputs": [],
   "source": [
    "days = [1, 2, 3, 3, 4, 4, 4, 6, 7, 8, \n",
    "        8, 8, 8, 12, 14, 15, 17, 17, 17, 18, 19, 19, 20, \n",
    "        23, 23, 23, 24, 24, 25, 26, 27, 28, 29, 34, 36, 36, \n",
    "        42, 42, 43, 43, 44, 44, 44, 44, 45, 46, 48, 48, 49, \n",
    "        49, 53, 53, 53, 54, 55, 56, 56, 58, 60, 63, 65, 67, \n",
    "        67, 68, 71, 71, 72, 72, 72, 73, 74, 74, 74, 75, 75, \n",
    "        80, 81, 81, 81, 81, 88, 88, 90, 93, 93, 94, 95, 95, \n",
    "        95, 96, 96, 97, 98, 100, 101, 102, 103, 104, 105, \n",
    "        106, 107, 108, 109, 110, 111, 112, 113, 114, 115]\n",
    "\n",
    "students = [6, 8, 12, 9, 3, 3, 11, 5, 7, 3, 8, \n",
    "            4, 6, 8, 3, 6, 3, 2, 2, 6, 3, 7, 7, 2, 2, 8, \n",
    "            3, 6, 5, 7, 6, 4, 4, 3, 3, 5, 3, 3, 3, 5, 3, \n",
    "            5, 6, 3, 3, 3, 3, 2, 3, 1, 3, 3, 5, 4, 4, 3, \n",
    "            5, 4, 3, 5, 3, 4, 2, 3, 3, 1, 3, 2, 5, 4, 3, \n",
    "            0, 3, 3, 4, 0, 3, 3, 4, 0, 2, 2, 1, 1, 2, 0, \n",
    "            2, 1, 1, 0, 0, 1, 1, 2, 2, 1, 1, 1, 1, 0, 0, \n",
    "            0, 1, 1, 0, 0, 0, 0, 0]\n",
    "\n",
    "y = np.array(students).reshape(-1,1)\n",
    "X = np.array([np.ones(len(days)), days]).T\n",
    "\n",
    "learning_rate = 0.0001\n",
    "theta_init = np.random.standard_normal((p+1,1))"
   ]
  },
  {
   "cell_type": "code",
   "execution_count": 8,
   "metadata": {},
   "outputs": [],
   "source": [
    "pmle = PoissonMLE(y, X)"
   ]
  },
  {
   "cell_type": "code",
   "execution_count": 9,
   "metadata": {},
   "outputs": [],
   "source": [
    "pmle.irls()"
   ]
  },
  {
   "cell_type": "code",
   "execution_count": 10,
   "metadata": {},
   "outputs": [],
   "source": [
    "pmle.compute_cov()"
   ]
  },
  {
   "cell_type": "code",
   "execution_count": 11,
   "metadata": {},
   "outputs": [],
   "source": [
    "out_df = pd.DataFrame(\n",
    "    np.round(\n",
    "    np.concatenate([pmle.theta, (np.sqrt(np.diag(pmle.covmat))).reshape(-1,1)],\n",
    "                   axis=1),\n",
    "    4), columns=['coef', 'std_err']\n",
    "    )"
   ]
  },
  {
   "cell_type": "code",
   "execution_count": 12,
   "metadata": {},
   "outputs": [
    {
     "data": {
      "text/html": [
       "<div>\n",
       "<style scoped>\n",
       "    .dataframe tbody tr th:only-of-type {\n",
       "        vertical-align: middle;\n",
       "    }\n",
       "\n",
       "    .dataframe tbody tr th {\n",
       "        vertical-align: top;\n",
       "    }\n",
       "\n",
       "    .dataframe thead th {\n",
       "        text-align: right;\n",
       "    }\n",
       "</style>\n",
       "<table border=\"1\" class=\"dataframe\">\n",
       "  <thead>\n",
       "    <tr style=\"text-align: right;\">\n",
       "      <th></th>\n",
       "      <th>coef</th>\n",
       "      <th>std_err</th>\n",
       "    </tr>\n",
       "  </thead>\n",
       "  <tbody>\n",
       "    <tr>\n",
       "      <th>0</th>\n",
       "      <td>1.9902</td>\n",
       "      <td>0.0839</td>\n",
       "    </tr>\n",
       "    <tr>\n",
       "      <th>1</th>\n",
       "      <td>-0.0175</td>\n",
       "      <td>0.0017</td>\n",
       "    </tr>\n",
       "  </tbody>\n",
       "</table>\n",
       "</div>"
      ],
      "text/plain": [
       "     coef  std_err\n",
       "0  1.9902   0.0839\n",
       "1 -0.0175   0.0017"
      ]
     },
     "execution_count": 12,
     "metadata": {},
     "output_type": "execute_result"
    }
   ],
   "source": [
    "out_df"
   ]
  }
 ],
 "metadata": {
  "kernelspec": {
   "display_name": "Python 3",
   "language": "python",
   "name": "python3"
  },
  "language_info": {
   "codemirror_mode": {
    "name": "ipython",
    "version": 3
   },
   "file_extension": ".py",
   "mimetype": "text/x-python",
   "name": "python",
   "nbconvert_exporter": "python",
   "pygments_lexer": "ipython3",
   "version": "3.6.9"
  }
 },
 "nbformat": 4,
 "nbformat_minor": 4
}
